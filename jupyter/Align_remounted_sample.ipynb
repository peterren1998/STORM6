{
 "cells": [
  {
   "cell_type": "code",
   "execution_count": 36,
   "metadata": {
    "collapsed": true
   },
   "outputs": [],
   "source": [
    "import os\n",
    "\n",
    "old_folder = r'D:\\Pu\\20220204-P_brain_M1_nonclear\\Alignment'\n",
    "\n",
    "before_position_file = os.path.join(old_folder, '10x_positions_before.txt')\n",
    "\n",
    "new_folder = r'D:\\Pu\\20220209-P_brain_CTP11-1000_CTP12_from_0204\\Alignment'\n",
    "\n",
    "after_position_file = os.path.join(new_folder, '10x_positions_after.txt')"
   ]
  },
  {
   "cell_type": "code",
   "execution_count": 37,
   "metadata": {
    "collapsed": false
   },
   "outputs": [
    {
     "data": {
      "text/plain": [
       "(True, True)"
      ]
     },
     "execution_count": 37,
     "metadata": {},
     "output_type": "execute_result"
    }
   ],
   "source": [
    "os.path.isfile(before_position_file), os.path.isfile(after_position_file)"
   ]
  },
  {
   "cell_type": "markdown",
   "metadata": {},
   "source": [
    "# Calculate rotation matrix"
   ]
  },
  {
   "cell_type": "code",
   "execution_count": 38,
   "metadata": {
    "collapsed": true
   },
   "outputs": [],
   "source": [
    "import numpy as np\n",
    "import os\n",
    "# 1. alignment for manually picked points\n",
    "def align_manual_points(pos_file_before, pos_file_after,\n",
    "                        save=True, save_folder=None, save_filename='', verbose=True):\n",
    "    \"\"\"Function to align two manually picked position files, \n",
    "    they should follow exactly the same order and of same length.\n",
    "    Inputs:\n",
    "        pos_file_before: full filename for positions file before translation\n",
    "        pos_file_after: full filename for positions file after translation\n",
    "        save: whether save rotation and translation info, bool (default: True)\n",
    "        save_folder: where to save rotation and translation info, None or string (default: same folder as pos_file_before)\n",
    "        save_filename: filename specified to save rotation and translation points\n",
    "        verbose: say something! bool (default: True)\n",
    "    Outputs:\n",
    "        R: rotation for positions, 2x2 array\n",
    "        T: traslation of positions, array of 2\n",
    "    Here's example for how to translate points\n",
    "        translated_ps_before = np.dot(ps_before, R) + t\n",
    "    \"\"\"\n",
    "    # load position_before\n",
    "    if os.path.isfile(pos_file_before):\n",
    "        ps_before = np.loadtxt(pos_file_before, delimiter=',')\n",
    "\n",
    "    # load position_after\n",
    "    if os.path.isfile(pos_file_after):\n",
    "        ps_after = np.loadtxt(pos_file_after, delimiter=',')\n",
    "\n",
    "    # do SVD decomposition to get best fit for rigid-translation\n",
    "    c_before = np.mean(ps_before, axis=0)\n",
    "    c_after = np.mean(ps_after, axis=0)\n",
    "    H = np.dot((ps_before - c_before).T, (ps_after - c_after))\n",
    "    U, _, V = np.linalg.svd(H)  # do SVD\n",
    "    # calcluate rotation\n",
    "    R = np.dot(V, U.T).T\n",
    "    if np.linalg.det(R) < 0:\n",
    "        R[:, -1] = -1 * R[:, -1]\n",
    "    # calculate translation\n",
    "    t = - np.dot(c_before, R) + c_after\n",
    "    # here's example for how to translate points\n",
    "    # translated_ps_before = np.dot(ps_before, R) + t\n",
    "    # save\n",
    "    if save:\n",
    "        if save_folder is None:\n",
    "            save_folder = os.path.dirname(pos_file_before)\n",
    "        if not os.path.exists(save_folder):\n",
    "            os.makedirs(save_folder)\n",
    "        if len(save_filename) > 0:\n",
    "            save_filename += '_'\n",
    "        rotation_name = os.path.join(save_folder, save_filename+'rotation')\n",
    "        translation_name = os.path.join(\n",
    "            save_folder, save_filename+'translation')\n",
    "        np.save(rotation_name, R)\n",
    "        np.save(translation_name, t)\n",
    "\n",
    "    return R, t"
   ]
  },
  {
   "cell_type": "code",
   "execution_count": 39,
   "metadata": {
    "collapsed": false
   },
   "outputs": [
    {
     "data": {
      "text/plain": [
       "(array([[ 0.99996207, -0.00870944],\n",
       "        [ 0.00870944,  0.99996207]]),\n",
       " array([  51.86510187, -472.89365466]))"
      ]
     },
     "execution_count": 39,
     "metadata": {},
     "output_type": "execute_result"
    }
   ],
   "source": [
    "R, T = align_manual_points(before_position_file, after_position_file, save=False, save_folder=new_folder)\n",
    "R, T"
   ]
  },
  {
   "cell_type": "markdown",
   "metadata": {},
   "source": [
    "# Translate 60x positions"
   ]
  },
  {
   "cell_type": "code",
   "execution_count": 40,
   "metadata": {
    "collapsed": true
   },
   "outputs": [],
   "source": [
    "old_positions = np.loadtxt(os.path.join(os.path.dirname(old_folder), 'positions_all.txt'), delimiter=',')"
   ]
  },
  {
   "cell_type": "code",
   "execution_count": 41,
   "metadata": {
    "collapsed": false
   },
   "outputs": [
    {
     "name": "stdout",
     "output_type": "stream",
     "text": [
      "[[-4945.21040471  -540.17449538]\n",
      " [-4946.95229198  -740.16690981]\n",
      " [-4948.69417926  -940.15932424]\n",
      " [-4950.43606653 -1140.15173867]\n",
      " [-4952.1779538  -1340.14415309]\n",
      " [-4752.18553937 -1341.88604037]\n",
      " [-4750.4436521  -1141.89362594]\n",
      " [-4748.70176483  -941.90121151]\n",
      " [-4746.95987756  -741.90879708]\n",
      " [-4745.21799029  -541.91638265]\n",
      " [-4545.22557586  -543.65826992]\n",
      " [-4546.96746313  -743.65068435]\n",
      " [-4548.7093504   -943.64309878]\n",
      " [-4550.45123767 -1143.63551321]\n",
      " [-4552.19312494 -1343.62792764]\n",
      " [-4353.94259779 -1545.36222934]\n",
      " [-4352.20071051 -1345.36981491]\n",
      " [-4350.45882324 -1145.37740048]\n",
      " [-4348.71693597  -945.38498605]\n",
      " [-4346.9750487   -745.39257162]\n",
      " [-4345.23316143  -545.4001572 ]\n",
      " [-4143.49885973  -347.14963004]\n",
      " [-4145.240747    -547.14204447]\n",
      " [-4146.98263427  -747.1344589 ]\n",
      " [-4148.72452154  -947.12687332]\n",
      " [-4150.46640881 -1147.11928775]\n",
      " [-4152.20829609 -1347.11170218]\n",
      " [-4153.95018336 -1547.10411661]\n",
      " [-3953.95776893 -1548.84600388]\n",
      " [-3952.21588166 -1348.85358945]\n",
      " [-3950.47399439 -1148.86117502]\n",
      " [-3948.73210712  -948.86876059]\n",
      " [-3946.99021984  -748.87634617]\n",
      " [-3945.24833257  -548.88393174]\n",
      " [-3943.5064453   -348.89151731]\n",
      " [-3743.51403087  -350.63340458]\n",
      " [-3745.25591815  -550.62581901]\n",
      " [-3746.99780542  -750.61823344]\n",
      " [-3748.73969269  -950.61064787]\n",
      " [-3750.48157996 -1150.60306229]\n",
      " [-3752.22346723 -1350.59547672]\n",
      " [-3753.9653545  -1550.58789115]\n",
      " [-5325.86939012  1222.90769976]\n",
      " [-5324.12750285  1422.90011419]\n",
      " [-5322.38561558  1622.89252862]\n",
      " [-5120.65131388  1821.14305577]\n",
      " [-5122.39320115  1621.15064134]\n",
      " [-5124.13508843  1421.15822692]\n",
      " [-5125.8769757   1221.16581249]\n",
      " [-5127.61886297  1021.17339806]\n",
      " [-4927.62644854  1019.43151079]\n",
      " [-4925.88456127  1219.42392522]\n",
      " [-4924.142674    1419.41633964]\n",
      " [-4922.40078673  1619.40875407]\n",
      " [-4920.65889945  1819.4011685 ]\n",
      " [-4720.66648503  1817.65928123]\n",
      " [-4722.4083723   1617.6668668 ]\n",
      " [-4724.15025957  1417.67445237]\n",
      " [-4725.89214684  1217.68203795]\n",
      " [-4727.63403411  1017.68962352]\n",
      " [-4527.64161968  1015.94773625]\n",
      " [-4525.89973241  1215.94015067]\n",
      " [-4524.15784514  1415.9325651 ]\n",
      " [-4522.41595787  1615.92497953]\n",
      " [-4520.6740706   1815.91739396]\n",
      " [-4318.9397689   2014.16792112]\n",
      " [-4320.68165617  1814.17550669]\n",
      " [-4322.42354344  1614.18309226]\n",
      " [-4324.16543071  1414.19067783]\n",
      " [-4325.90731798  1214.1982634 ]\n",
      " [-4327.64920526  1014.20584898]\n",
      " [-4127.65679083  1012.4639617 ]\n",
      " [-4125.91490356  1212.45637613]\n",
      " [-4124.17301629  1412.44879056]\n",
      " [-4122.43112901  1612.44120499]\n",
      " [-4120.68924174  1812.43361942]\n",
      " [-4118.94735447  2012.42603384]\n",
      " [-3922.43871459  1610.69931772]\n",
      " [-3924.18060186  1410.70690329]\n",
      " [-3925.92248913  1210.71448886]\n",
      " [-3927.6643764   1010.72207443]\n",
      " [-3727.67196197  1008.98018716]\n",
      " [-3725.9300747   1208.97260159]\n",
      " [-1312.85881927  1631.47213557]\n",
      " [-1311.116932    1831.46455   ]\n",
      " [-1309.37504473  2031.45696443]\n",
      " [-1307.63315746  2231.44937885]\n",
      " [-1104.15696849  2629.69232044]\n",
      " [-1105.89885576  2429.69990601]\n",
      " [-1107.64074303  2229.70749158]\n",
      " [-1109.3826303   2029.71507716]\n",
      " [-1111.12451757  1829.72266273]\n",
      " [ -911.13210314  1827.98077546]\n",
      " [ -909.39021587  2027.97318988]\n",
      " [ -907.6483286   2227.96560431]\n",
      " [ -905.90644133  2427.95801874]\n",
      " [ -904.16455406  2627.95043317]\n",
      " [ -705.9140269   2426.21613147]\n",
      " [ -707.65591417  2226.22371704]\n",
      " [ -709.39780144  2026.23130261]\n",
      " [ -711.13968871  1826.23888818]\n",
      " [ -511.14727429  1824.49700091]\n",
      " [ -509.40538702  2024.48941534]\n",
      " [ -507.66349974  2224.48182977]\n",
      " [ -505.92161247  2424.4742442 ]\n",
      " [ -305.92919805  2422.73235693]\n",
      " [ -307.67108532  2222.7399425 ]\n",
      " [ -309.41297259  2022.74752807]\n",
      " [ -311.15485986  1822.75511364]\n",
      " [ -111.16244543  1821.01322637]\n",
      " [ -109.42055816  2021.0056408 ]\n",
      " [ -107.67867089  2220.99805523]\n",
      " [ -105.93678362  2420.99046965]\n",
      " [   94.05563081  2419.24858238]\n",
      " [   92.31374354  2219.25616796]\n",
      " [   90.57185627  2019.26375353]\n",
      " [   88.829969    1819.2713391 ]\n",
      " [  288.82238343  1817.52945183]\n",
      " [  290.5642707   2017.52186626]\n",
      " [  292.30615797  2217.51428068]\n",
      " [  294.04804524  2417.50669511]\n",
      " [-1253.04358516    36.99070333]\n",
      " [-1053.05117073    35.24881606]\n",
      " [-1054.793058    -164.74359837]\n",
      " [-1056.53494528  -364.7360128 ]\n",
      " [-1058.27683255  -564.72842723]\n",
      " [-1060.01871982  -764.72084166]\n",
      " [-1061.76060709  -964.71325608]\n",
      " [-1063.50249436 -1164.70567051]\n",
      " [-1065.24438163 -1364.69808494]\n",
      " [ -863.51007993 -1166.44755778]\n",
      " [ -861.76819266  -966.45514336]\n",
      " [ -860.02630539  -766.46272893]\n",
      " [ -858.28441812  -566.4703145 ]\n",
      " [ -856.54253085  -366.47790007]\n",
      " [ -854.80064358  -166.48548564]\n",
      " [ -654.80822915  -168.22737291]\n",
      " [ -656.55011642  -368.21978734]\n",
      " [ -658.29200369  -568.21220177]\n",
      " [ -660.03389096  -768.2046162 ]\n",
      " [ -661.77577823  -968.19703063]\n",
      " [ -663.5176655  -1168.18944505]\n",
      " [ -463.52525108 -1169.93133233]\n",
      " [ -461.78336381  -969.9389179 ]\n",
      " [ -460.04147653  -769.94650347]\n",
      " [ -458.29958926  -569.95408904]\n",
      " [ -456.55770199  -369.96167461]\n",
      " [ -454.81581472  -169.96926019]\n",
      " [ -254.82340029  -171.71114746]\n",
      " [ -256.56528756  -371.70356188]\n",
      " [ -258.30717484  -571.69597631]\n",
      " [ -260.04906211  -771.68839074]\n",
      " [ -261.79094938  -971.68080517]\n",
      " [ -263.53283665 -1171.6732196 ]\n",
      " [  -63.54042222 -1173.41510687]\n",
      " [  -61.79853495  -973.42269244]\n",
      " [  -60.05664768  -773.43027801]\n",
      " [  -58.31476041  -573.43786358]\n",
      " [  -56.57287314  -373.44544916]\n",
      " [  -54.83098586  -173.45303473]\n",
      " [  145.16142856  -175.194922  ]\n",
      " [  143.41954129  -375.18733643]\n",
      " [  141.67765402  -575.17975086]\n",
      " [  139.93576675  -775.17216528]\n",
      " [  138.19387948  -975.16457971]\n",
      " [  338.18629391  -976.90646698]\n",
      " [  339.92818118  -776.91405255]\n",
      " [  341.67006845  -576.92163813]\n",
      " [  343.41195572  -376.9292237 ]]\n"
     ]
    }
   ],
   "source": [
    "new_positions = np.dot(old_positions, R) + T\n",
    "print(new_positions)"
   ]
  },
  {
   "cell_type": "code",
   "execution_count": 42,
   "metadata": {
    "collapsed": false
   },
   "outputs": [
    {
     "name": "stdout",
     "output_type": "stream",
     "text": [
      "D:\\Pu\\20220209-P_brain_CTP11-1000_CTP12_from_0204\\Alignment\\translated_positions_all.txt\n"
     ]
    }
   ],
   "source": [
    "save_filename = os.path.join(new_folder, 'translated_positions_all.txt')\n",
    "print(save_filename)\n",
    "np.savetxt(save_filename, new_positions, fmt='%.2f', delimiter=',')"
   ]
  },
  {
   "cell_type": "markdown",
   "metadata": {},
   "source": [
    "# Manual adjust positions"
   ]
  },
  {
   "cell_type": "code",
   "execution_count": 48,
   "metadata": {
    "collapsed": false
   },
   "outputs": [
    {
     "name": "stdout",
     "output_type": "stream",
     "text": [
      "D:\\Pu\\20220204-P_brain_M1_nonclear\\60x_positions_before.txt\n"
     ]
    }
   ],
   "source": [
    "manual_positions_before_file = os.path.join(os.path.dirname(old_folder), '60x_positions_before.txt')\n",
    "print(manual_positions_before_file)"
   ]
  },
  {
   "cell_type": "code",
   "execution_count": 47,
   "metadata": {
    "collapsed": false
   },
   "outputs": [
    {
     "name": "stdout",
     "output_type": "stream",
     "text": [
      "[[-5105.14 -1634.23]\n",
      " [-5518.84  2938.95]\n",
      " [  220.37  3695.69]\n",
      " [ 1613.92  -771.13]]\n",
      "translated manual positions:\n",
      "[[-5067.31 -2062.6 ]\n",
      " [-5441.17  2514.01]\n",
      " [  304.41  3220.74]\n",
      " [ 1659.01 -1258.05]]\n"
     ]
    }
   ],
   "source": [
    "manual_positions = np.loadtxt(manual_positions_before_file, delimiter=',')\n",
    "print(manual_positions)\n",
    "translated_manual_positions = np.dot(manual_positions, R) + T\n",
    "print('translated manual positions:')\n",
    "print(np.round(translated_manual_positions, 2))"
   ]
  },
  {
   "cell_type": "code",
   "execution_count": 52,
   "metadata": {
    "collapsed": false
   },
   "outputs": [
    {
     "data": {
      "text/plain": [
       "array([[ 4.61449327, -7.90122011],\n",
       "       [-4.83101764, -6.010863  ],\n",
       "       [-1.41412055,  0.31312276],\n",
       "       [ 3.49221832,  2.75074087]])"
      ]
     },
     "execution_count": 52,
     "metadata": {},
     "output_type": "execute_result"
    }
   ],
   "source": [
    "manual_real_positions = [\n",
    "    [-5062.7, -2070.5],\n",
    "    [-5446, 2508],\n",
    "    [303, 3221.05],\n",
    "    [1662.5, -1255.3],\n",
    "]\n",
    "manual_shifts = np.array(manual_real_positions) - translated_manual_positions[:len(manual_real_positions)]\n",
    "manual_shifts"
   ]
  },
  {
   "cell_type": "code",
   "execution_count": 53,
   "metadata": {
    "collapsed": false
   },
   "outputs": [
    {
     "data": {
      "text/plain": [
       "array([ 0.46539335, -2.71205487])"
      ]
     },
     "execution_count": 53,
     "metadata": {},
     "output_type": "execute_result"
    }
   ],
   "source": [
    "manual_shift = np.mean(manual_shifts, axis=0)\n",
    "manual_shift"
   ]
  },
  {
   "cell_type": "code",
   "execution_count": 54,
   "metadata": {
    "collapsed": true
   },
   "outputs": [],
   "source": [
    "adjusted_new_positions = new_positions + manual_shift"
   ]
  },
  {
   "cell_type": "code",
   "execution_count": 55,
   "metadata": {
    "collapsed": false
   },
   "outputs": [
    {
     "name": "stdout",
     "output_type": "stream",
     "text": [
      "D:\\Pu\\20220209-P_brain_CTP11-1000_CTP12_from_0204\\Alignment\\adjusted_translated_positions_all.txt\n"
     ]
    }
   ],
   "source": [
    "adj_save_filename = os.path.join(new_folder, 'adjusted_translated_positions_all.txt')\n",
    "print(adj_save_filename)\n",
    "np.savetxt(adj_save_filename, adjusted_new_positions, fmt='%.2f', delimiter=',')"
   ]
  },
  {
   "cell_type": "code",
   "execution_count": null,
   "metadata": {
    "collapsed": true
   },
   "outputs": [],
   "source": []
  }
 ],
 "metadata": {
  "kernelspec": {
   "display_name": "Python 3",
   "language": "python",
   "name": "python3"
  },
  "language_info": {
   "codemirror_mode": {
    "name": "ipython",
    "version": 3
   },
   "file_extension": ".py",
   "mimetype": "text/x-python",
   "name": "python",
   "nbconvert_exporter": "python",
   "pygments_lexer": "ipython3",
   "version": "3.9.5"
  }
 },
 "nbformat": 4,
 "nbformat_minor": 0
}
