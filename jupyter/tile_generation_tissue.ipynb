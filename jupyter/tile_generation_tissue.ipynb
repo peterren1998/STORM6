{
 "cells": [
  {
   "cell_type": "markdown",
   "metadata": {},
   "source": [
    "## 1.1 Process all contours"
   ]
  },
  {
   "cell_type": "code",
   "execution_count": 3,
   "metadata": {
    "collapsed": false
   },
   "outputs": [],
   "source": [
    "import pandas as pd\n",
    "import numpy as np\n",
    "from shapely import geometry\n",
    "from shapely.ops import cascaded_union\n",
    "import os, glob\n",
    "\n",
    "import shapely"
   ]
  },
  {
   "cell_type": "code",
   "execution_count": 18,
   "metadata": {
    "collapsed": true
   },
   "outputs": [],
   "source": [
    "#data_folder = r'D:\\Pu\\20221026-hM1_hM1_Cx28_sample4'  \n",
    "#data_folder = r'\\\\storm65-pc\\F\\Pu\\20220409-P_brain_M1_noclear'\n",
    "\n",
    "data_folder = r'D:\\Pu\\20230623-KPtumor_lung_c2'"
   ]
  },
  {
   "cell_type": "code",
   "execution_count": 21,
   "metadata": {
    "collapsed": false,
    "scrolled": true
   },
   "outputs": [
    {
     "name": "stdout",
     "output_type": "stream",
     "text": [
      "Get position file for 1 contours.\n",
      "save 507 coordinates into file: D:\\Pu\\20230623-KPtumor_lung_c2\\contour_0_positions.txt\n",
      "Save 507 coordinates into the merged file: D:\\Pu\\20230623-KPtumor_lung_c2\\positions_all.txt\n"
     ]
    }
   ],
   "source": [
    "process_all_contours = True\n",
    "\n",
    "if process_all_contours:\n",
    "    \n",
    "    contour_filename_list = [_f for _f in glob.glob(data_folder+os.sep+'*') if 'contour_' in _f and 'position' not in _f]\n",
    "    #contour_filename_list=contour_filename_list[:1]\n",
    "    print(f\"Get position file for {len(contour_filename_list)} contours.\")\n",
    "    # merged positions for all positions\n",
    "    postions_all = []\n",
    "    \n",
    "    for contour_filename in contour_filename_list:\n",
    "        # read contour coords\n",
    "        points = pd.read_csv(contour_filename, header=None, sep=',')\n",
    "        points.columns=['X', 'Y']\n",
    "        # convert to polygon\n",
    "        \n",
    "        grid_size = 205 # um\n",
    "\n",
    "        tissue = geometry.Polygon(points.values)\n",
    "        grid_center = np.round(np.array(tissue.centroid.coords)[0], 1)\n",
    "        grid_inds = [np.arange(np.floor( (np.min(points['X'])-grid_center[0])/grid_size ), \n",
    "                      np.ceil( (max(points['X'])-grid_center[0])/grid_size )+1 ),\n",
    "             np.arange(np.floor( (np.min(points['Y'])-grid_center[1])/grid_size ), \n",
    "                      np.ceil( (max(points['Y'])-grid_center[1])/grid_size )+1 ),\n",
    "            ]\n",
    "                \n",
    "        grids = np.array(np.meshgrid(*grid_inds))#.reshape(len(grid_inds),-1).transpose()\n",
    "        # generate tiles in snake style\n",
    "\n",
    "        sorted_grids = []\n",
    "        for _iy in np.arange(grids.shape[-1]):\n",
    "            _line_grids = grids[:,:,_iy]\n",
    "            if _iy % 2 == 1:\n",
    "                sorted_grids.append(_line_grids)\n",
    "            else:\n",
    "                sorted_grids.append(np.fliplr(_line_grids))\n",
    "        \n",
    "        grids = np.concatenate(sorted_grids, axis=1).transpose()\n",
    "        \n",
    "        # get to positions coord inside the grid      \n",
    "        positions = []\n",
    "\n",
    "        for _i, _grid in enumerate(grids):\n",
    "            _grid_position = _grid * grid_size + grid_center\n",
    "            #print(_grid_position)\n",
    "            # get each grid point\n",
    "            _grid_point = geometry.Point(_grid_position)\n",
    "            _fov_shape = geometry.Polygon([\n",
    "                    _grid_position + [-grid_size/2, -grid_size/2], \n",
    "                    _grid_position + [grid_size/2, -grid_size/2], \n",
    "                    _grid_position + [grid_size/2, grid_size/2], \n",
    "                    _grid_position + [-grid_size/2, grid_size/2], \n",
    "                ])\n",
    "            # calculate intersect\n",
    "            _intersect = _fov_shape.intersection(tissue)\n",
    "            if _intersect.area > 0:\n",
    "                positions.append(_grid_position)\n",
    "                postions_all.append(_grid_position)\n",
    "        positions = np.array(positions)\n",
    "        #print(np.shape(positions))\n",
    "        \n",
    "        \n",
    "        overwrite = False\n",
    "        save_filename = contour_filename.replace('.txt', '_positions.txt')\n",
    "\n",
    "        if os.path.exists(save_filename) and not overwrite:\n",
    "            print(f\"file: {save_filename} already exist, skip!\")\n",
    "        else:\n",
    "            print(f\"save {len(positions)} coordinates into file: {save_filename}\")\n",
    "            np.savetxt(save_filename, np.round(positions,2), delimiter=',', fmt='%.2f')\n",
    "    \n",
    "    \n",
    "    \n",
    "postions_all =np.array(postions_all)\n",
    "merged_save_filename = os.path.join(data_folder, r'positions_all.txt')\n",
    "exp_date = data_folder.split('\\\\')[-1].split('-')[0]\n",
    "analysis_save_filename = os.path.join(data_folder, f'{exp_date}_positions_all.txt')\n",
    "\n",
    "if os.path.exists(merged_save_filename) and not overwrite:\n",
    "    print(f\"file: {merged_save_filename} already exist, skip!\")\n",
    "else:\n",
    "    print(f\"Save {len(postions_all)} coordinates into the merged file: {merged_save_filename}\")\n",
    "    np.savetxt(merged_save_filename, np.round(postions_all,2), delimiter=',', fmt='%.2f')\n",
    "    #np.savetxt(analysis_save_filename, np.round(postions_all,2), delimiter=',', fmt='%.2f')\n",
    "    \n",
    "\n"
   ]
  },
  {
   "cell_type": "markdown",
   "metadata": {},
   "source": [
    "### name all contour positions as \"contour_x.txt\" before proceeding the step below"
   ]
  },
  {
   "cell_type": "markdown",
   "metadata": {},
   "source": [
    "## (Alternatively) 1.2 Check individual contour"
   ]
  },
  {
   "cell_type": "code",
   "execution_count": 13,
   "metadata": {
    "collapsed": false
   },
   "outputs": [
    {
     "data": {
      "text/html": [
       "<div>\n",
       "<style scoped>\n",
       "    .dataframe tbody tr th:only-of-type {\n",
       "        vertical-align: middle;\n",
       "    }\n",
       "\n",
       "    .dataframe tbody tr th {\n",
       "        vertical-align: top;\n",
       "    }\n",
       "\n",
       "    .dataframe thead th {\n",
       "        text-align: right;\n",
       "    }\n",
       "</style>\n",
       "<table border=\"1\" class=\"dataframe\">\n",
       "  <thead>\n",
       "    <tr style=\"text-align: right;\">\n",
       "      <th></th>\n",
       "      <th>X</th>\n",
       "      <th>Y</th>\n",
       "    </tr>\n",
       "  </thead>\n",
       "  <tbody>\n",
       "    <tr>\n",
       "      <th>0</th>\n",
       "      <td>1908.89</td>\n",
       "      <td>950.45</td>\n",
       "    </tr>\n",
       "    <tr>\n",
       "      <th>1</th>\n",
       "      <td>1791.53</td>\n",
       "      <td>-123.87</td>\n",
       "    </tr>\n",
       "    <tr>\n",
       "      <th>2</th>\n",
       "      <td>1305.28</td>\n",
       "      <td>-179.34</td>\n",
       "    </tr>\n",
       "    <tr>\n",
       "      <th>3</th>\n",
       "      <td>1177.71</td>\n",
       "      <td>-122.02</td>\n",
       "    </tr>\n",
       "    <tr>\n",
       "      <th>4</th>\n",
       "      <td>678.53</td>\n",
       "      <td>-186.73</td>\n",
       "    </tr>\n",
       "    <tr>\n",
       "      <th>5</th>\n",
       "      <td>610.12</td>\n",
       "      <td>399.35</td>\n",
       "    </tr>\n",
       "    <tr>\n",
       "      <th>6</th>\n",
       "      <td>615.66</td>\n",
       "      <td>1127.79</td>\n",
       "    </tr>\n",
       "    <tr>\n",
       "      <th>7</th>\n",
       "      <td>1349.66</td>\n",
       "      <td>1131.49</td>\n",
       "    </tr>\n",
       "  </tbody>\n",
       "</table>\n",
       "</div>"
      ],
      "text/plain": [
       "         X        Y\n",
       "0  1908.89   950.45\n",
       "1  1791.53  -123.87\n",
       "2  1305.28  -179.34\n",
       "3  1177.71  -122.02\n",
       "4   678.53  -186.73\n",
       "5   610.12   399.35\n",
       "6   615.66  1127.79\n",
       "7  1349.66  1131.49"
      ]
     },
     "execution_count": 13,
     "metadata": {},
     "output_type": "execute_result"
    }
   ],
   "source": [
    "#data_folder = r'D:\\Pu\\20221011-hMTG_hM1_sample5'\n",
    "contour_filename = os.path.join(data_folder, r'contour_1.txt')\n",
    "# read position file\n",
    "if os.path.exists(contour_filename):\n",
    "    points = pd.read_csv(contour_filename, header=None, sep=',')\n",
    "points.columns=['X', 'Y']\n",
    "points"
   ]
  },
  {
   "cell_type": "code",
   "execution_count": 14,
   "metadata": {
    "collapsed": false
   },
   "outputs": [],
   "source": [
    "# convert into polygon\n",
    "grid_size = 200 # um\n",
    "\n",
    "tissue = geometry.Polygon(points.values)\n",
    "\n",
    "grid_center = np.round(np.array(tissue.centroid.coords)[0], 1)\n",
    "\n",
    "grid_inds = [np.arange(np.floor( (np.min(points['X'])-grid_center[0])/grid_size ), \n",
    "                      np.ceil( (max(points['X'])-grid_center[0])/grid_size )+1 ),\n",
    "             np.arange(np.floor( (np.min(points['Y'])-grid_center[1])/grid_size ), \n",
    "                      np.ceil( (max(points['Y'])-grid_center[1])/grid_size )+1 ),\n",
    "            ]\n",
    "                \n",
    "grids = np.array(np.meshgrid(*grid_inds))#.reshape(len(grid_inds),-1).transpose()\n",
    "# generate tiles in snake style\n",
    "\n",
    "sorted_grids = []\n",
    "for _iy in np.arange(grids.shape[-1]):\n",
    "    _line_grids = grids[:,:,_iy]\n",
    "    if _iy % 2 == 0:\n",
    "        sorted_grids.append(_line_grids)\n",
    "    else:\n",
    "        sorted_grids.append(np.fliplr(_line_grids))\n",
    "        \n",
    "grids = np.concatenate(sorted_grids, axis=1).transpose()"
   ]
  },
  {
   "cell_type": "code",
   "execution_count": 15,
   "metadata": {
    "collapsed": false,
    "scrolled": true
   },
   "outputs": [
    {
     "name": "stdout",
     "output_type": "stream",
     "text": [
      "(49, 2)\n"
     ]
    }
   ],
   "source": [
    "positions = []\n",
    "\n",
    "for _i, _grid in enumerate(grids):\n",
    "    _grid_position = _grid * grid_size + grid_center\n",
    "    #print(_grid_position)\n",
    "    # get each grid point\n",
    "    _grid_point = geometry.Point(_grid_position)\n",
    "    _fov_shape = geometry.Polygon([\n",
    "            _grid_position + [-grid_size/2, -grid_size/2], \n",
    "            _grid_position + [grid_size/2, -grid_size/2], \n",
    "            _grid_position + [grid_size/2, grid_size/2], \n",
    "            _grid_position + [-grid_size/2, grid_size/2], \n",
    "        ])\n",
    "    # calculate intersect\n",
    "    _intersect = _fov_shape.intersection(tissue)\n",
    "    if _intersect.area > 0:\n",
    "        positions.append(_grid_position)\n",
    "        \n",
    "positions = np.array(positions)\n",
    "print(np.shape(positions))"
   ]
  },
  {
   "cell_type": "markdown",
   "metadata": {},
   "source": [
    "## Plot"
   ]
  },
  {
   "cell_type": "code",
   "execution_count": 16,
   "metadata": {
    "collapsed": false
   },
   "outputs": [],
   "source": [
    "#positions[54]"
   ]
  },
  {
   "cell_type": "code",
   "execution_count": 17,
   "metadata": {
    "collapsed": false
   },
   "outputs": [
    {
     "data": {
      "image/png": "[encoded data removed]",
      "text/plain": [
       "<Figure size 432x432 with 1 Axes>"
      ]
     },
     "metadata": {
      "needs_background": "light"
     },
     "output_type": "display_data"
    },
    {
     "name": "stdout",
     "output_type": "stream",
     "text": [
      "49\n"
     ]
    }
   ],
   "source": [
    "import matplotlib.pyplot as plt\n",
    "plt.figure(figsize=(6,6))\n",
    "plt.plot(points['X'], points['Y'])\n",
    "plt.axis('equal')\n",
    "plt.plot(grid_center[0], grid_center[1], 'ro')\n",
    "#plt.axes('equal')\n",
    "plt.plot(positions[:,0], positions[:,1], 'b:o', markersize=1)\n",
    "\n",
    "plt.show()\n",
    "\n",
    "print(len(positions))"
   ]
  },
  {
   "cell_type": "markdown",
   "metadata": {},
   "source": [
    "## Save"
   ]
  },
  {
   "cell_type": "code",
   "execution_count": 28,
   "metadata": {
    "collapsed": false
   },
   "outputs": [
    {
     "name": "stdout",
     "output_type": "stream",
     "text": [
      "file: D:\\Pu\\20230507-4T1_edits_22k\\contour_2_positions.txt already exist, skip!\n"
     ]
    }
   ],
   "source": [
    "overwrite = False\n",
    "save_filename = contour_filename.replace('.txt', '_positions.txt')\n",
    "\n",
    "if os.path.exists(save_filename) and not overwrite:\n",
    "    print(f\"file: {save_filename} already exist, skip!\")\n",
    "else:\n",
    "    print(f\"save {len(positions)} coordinates into file: {save_filename}\")\n",
    "    np.savetxt(save_filename, np.round(positions,2), delimiter=',', fmt='%.2f')"
   ]
  },
  {
   "cell_type": "code",
   "execution_count": null,
   "metadata": {
    "collapsed": true
   },
   "outputs": [],
   "source": []
  }
 ],
 "metadata": {
  "kernelspec": {
   "display_name": "Python 3",
   "language": "python",
   "name": "python3"
  },
  "language_info": {
   "codemirror_mode": {
    "name": "ipython",
    "version": 3
   },
   "file_extension": ".py",
   "mimetype": "text/x-python",
   "name": "python",
   "nbconvert_exporter": "python",
   "pygments_lexer": "ipython3",
   "version": "3.9.5"
  }
 },
 "nbformat": 4,
 "nbformat_minor": 2
}
