{
 "cells": [
  {
   "cell_type": "code",
   "execution_count": 2,
   "metadata": {
    "collapsed": false
   },
   "outputs": [
    {
     "data": {
      "text/plain": [
       "(True, True)"
      ]
     },
     "execution_count": 2,
     "metadata": {},
     "output_type": "execute_result"
    }
   ],
   "source": [
    "import os\n",
    "\n",
    "old_folder = r'D:\\Cosmos_MOp\\20240312_Mecp2_Visual\\Alignment'\n",
    "\n",
    "before_position_file = os.path.join(old_folder, '10x_positions_before.txt')\n",
    "\n",
    "new_folder = r'D:\\Cosmos_MOp\\20240316_DNA_from_0312\\Alignment'\n",
    "\n",
    "after_position_file = os.path.join(new_folder, '10x_positions_after.txt')\n",
    "\n",
    "os.path.isfile(before_position_file), os.path.isfile(after_position_file)\n",
    "\n"
   ]
  },
  {
   "cell_type": "markdown",
   "metadata": {},
   "source": [
    "# Calculate rotation matrix"
   ]
  },
  {
   "cell_type": "code",
   "execution_count": 3,
   "metadata": {
    "collapsed": true
   },
   "outputs": [],
   "source": [
    "import numpy as np\n",
    "import os\n",
    "# 1. alignment for manually picked points\n",
    "def align_manual_points(pos_file_before, pos_file_after,\n",
    "                        save=True, save_folder=None, save_filename='', verbose=True):\n",
    "    \"\"\"Function to align two manually picked position files, \n",
    "    they should follow exactly the same order and of same length.\n",
    "    Inputs:\n",
    "        pos_file_before: full filename for positions file before translation\n",
    "        pos_file_after: full filename for positions file after translation\n",
    "        save: whether save rotation and translation info, bool (default: True)\n",
    "        save_folder: where to save rotation and translation info, None or string (default: same folder as pos_file_before)\n",
    "        save_filename: filename specified to save rotation and translation points\n",
    "        verbose: say something! bool (default: True)\n",
    "    Outputs:\n",
    "        R: rotation for positions, 2x2 array\n",
    "        T: traslation of positions, array of 2\n",
    "    Here's example for how to translate points\n",
    "        translated_ps_before = np.dot(ps_before, R) + t\n",
    "    \"\"\"\n",
    "    # load position_before\n",
    "    if os.path.isfile(pos_file_before):\n",
    "        ps_before = np.loadtxt(pos_file_before, delimiter=',')\n",
    "\n",
    "    # load position_after\n",
    "    if os.path.isfile(pos_file_after):\n",
    "        ps_after = np.loadtxt(pos_file_after, delimiter=',')\n",
    "\n",
    "    # do SVD decomposition to get best fit for rigid-translation\n",
    "    c_before = np.mean(ps_before, axis=0)\n",
    "    c_after = np.mean(ps_after, axis=0)\n",
    "    H = np.dot((ps_before - c_before).T, (ps_after - c_after))\n",
    "    U, _, V = np.linalg.svd(H)  # do SVD\n",
    "    # calcluate rotation\n",
    "    R = np.dot(V, U.T).T\n",
    "    if np.linalg.det(R) < 0:\n",
    "        R[:, -1] = -1 * R[:, -1]\n",
    "    # calculate translation\n",
    "    t = - np.dot(c_before, R) + c_after\n",
    "    # here's example for how to translate points\n",
    "    # translated_ps_before = np.dot(ps_before, R) + t\n",
    "    # save\n",
    "    if save:\n",
    "        if save_folder is None:\n",
    "            save_folder = os.path.dirname(pos_file_before)\n",
    "        if not os.path.exists(save_folder):\n",
    "            os.makedirs(save_folder)\n",
    "        if len(save_filename) > 0:\n",
    "            save_filename += '_'\n",
    "        rotation_name = os.path.join(save_folder, save_filename+'rotation')\n",
    "        translation_name = os.path.join(\n",
    "            save_folder, save_filename+'translation')\n",
    "        np.save(rotation_name, R)\n",
    "        np.save(translation_name, t)\n",
    "\n",
    "    return R, t"
   ]
  },
  {
   "cell_type": "code",
   "execution_count": 4,
   "metadata": {
    "collapsed": false
   },
   "outputs": [
    {
     "data": {
      "text/plain": [
       "(array([[ 0.99998348, -0.00574867],\n",
       "        [ 0.00574867,  0.99998348]]),\n",
       " array([1026.16267291,  350.24941204]))"
      ]
     },
     "execution_count": 4,
     "metadata": {},
     "output_type": "execute_result"
    }
   ],
   "source": [
    "R, T = align_manual_points(before_position_file, after_position_file, save=False, save_folder=new_folder)\n",
    "R, T"
   ]
  },
  {
   "cell_type": "code",
   "execution_count": 5,
   "metadata": {
    "collapsed": false
   },
   "outputs": [
    {
     "data": {
      "text/plain": [
       "1.5765450241517152"
      ]
     },
     "execution_count": 5,
     "metadata": {},
     "output_type": "execute_result"
    }
   ],
   "source": [
    "np.arccos(R[0,1])"
   ]
  },
  {
   "cell_type": "markdown",
   "metadata": {},
   "source": [
    "# Translate 60x positions"
   ]
  },
  {
   "cell_type": "code",
   "execution_count": 6,
   "metadata": {
    "collapsed": false
   },
   "outputs": [],
   "source": [
    "old_positions = np.loadtxt(os.path.join(os.path.dirname(old_folder), 'positions_all.txt'), delimiter=',')"
   ]
  },
  {
   "cell_type": "code",
   "execution_count": 7,
   "metadata": {
    "collapsed": false
   },
   "outputs": [
    {
     "name": "stdout",
     "output_type": "stream",
     "text": [
      "[[-2119.76354456 -3524.42973394]\n",
      " [-1915.94540839 -3730.60482304]\n",
      " [-1914.76693192 -3525.6082104 ]\n",
      " [-1913.58845545 -3320.61159777]\n",
      " [-1706.23488988 -2911.79684896]\n",
      " [-1707.41336635 -3116.79346159]\n",
      " [-1708.59184281 -3321.79007423]\n",
      " [-1709.77031928 -3526.78668687]\n",
      " [-1710.94879575 -3731.78329951]\n",
      " [-1712.12727222 -3936.77991215]\n",
      " [-1508.30913604 -4142.95500125]\n",
      " [-1507.13065958 -3937.95838862]\n",
      " [-1505.95218311 -3732.96177598]\n",
      " [-1504.77370664 -3527.96516334]\n",
      " [-1503.59523018 -3322.9685507 ]\n",
      " [-1502.41675371 -3117.97193806]\n",
      " [-1501.23827724 -2912.97532542]\n",
      " [-1500.05980077 -2707.97871278]\n",
      " [-1292.7062352  -2299.16396398]\n",
      " [-1293.88471167 -2504.16057661]\n",
      " [-1295.06318814 -2709.15718925]\n",
      " [-1296.2416646  -2914.15380189]\n",
      " [-1297.42014107 -3119.15041453]\n",
      " [-1298.59861754 -3324.14702717]\n",
      " [-1299.777094   -3529.14363981]\n",
      " [-1300.95557047 -3734.14025244]\n",
      " [-1302.13404694 -3939.13686508]\n",
      " [-1303.31252341 -4144.13347772]\n",
      " [-1098.31591077 -4145.31195419]\n",
      " [-1097.1374343  -3940.31534155]\n",
      " [-1095.95895783 -3735.31872891]\n",
      " [-1094.78048137 -3530.32211627]\n",
      " [-1093.6020049  -3325.32550363]\n",
      " [-1092.42352843 -3120.328891  ]\n",
      " [-1091.24505196 -2915.33227836]\n",
      " [-1090.0665755  -2710.33566572]\n",
      " [-1088.88809903 -2505.33905308]\n",
      " [-1087.70962256 -2300.34244044]\n",
      " [ -881.53453346 -2096.52430427]\n",
      " [ -882.71300993 -2301.52091691]\n",
      " [ -883.89148639 -2506.51752955]\n",
      " [ -885.06996286 -2711.51414219]\n",
      " [ -886.24843933 -2916.51075482]\n",
      " [ -887.42691579 -3121.50736746]\n",
      " [ -888.60539226 -3326.5039801 ]\n",
      " [ -889.78386873 -3531.50059274]\n",
      " [ -890.9623452  -3736.49720538]\n",
      " [ -892.14082166 -3941.49381802]\n",
      " [ -684.78725609 -3532.67906921]\n",
      " [ -683.60877962 -3327.68245657]\n",
      " [ -682.43030316 -3122.68584393]\n",
      " [ -681.25182669 -2917.68923129]\n",
      " [ -680.07335022 -2712.69261865]\n",
      " [ -678.89487375 -2507.69600602]\n",
      " [ -677.71639729 -2302.69939338]\n",
      " [ -676.53792082 -2097.70278074]\n",
      " [ -471.54130818 -2098.88125721]\n",
      " [ -472.71978465 -2303.87786984]\n",
      " [ -473.89826112 -2508.87448248]\n",
      " [ -475.07673758 -2713.87109512]\n",
      " [ -476.25521405 -2918.86770776]\n",
      " [ -477.43369052 -3123.8643204 ]\n",
      " [ -478.61216698 -3328.86093304]\n",
      " [ -270.08012494 -2715.04957159]\n",
      " [ -268.90164848 -2510.05295895]\n",
      " [ -267.72317201 -2305.05634631]\n",
      " [ -266.54469554 -2100.05973367]\n",
      " [-2022.1586825   2547.10949273]\n",
      " [-2023.33715897  2342.11288009]\n",
      " [-1819.5190228   2135.93779098]\n",
      " [-1818.34054633  2340.93440362]\n",
      " [-1817.16206987  2545.93101626]\n",
      " [-1815.9835934   2750.9276289 ]\n",
      " [-1609.80850429  2954.74576507]\n",
      " [-1610.98698076  2749.74915243]\n",
      " [-1612.16545723  2544.75253979]\n",
      " [-1613.34393369  2339.75592715]\n",
      " [-1614.52241016  2134.75931451]\n",
      " [-1615.70088663  1929.76270188]\n",
      " [-1616.8793631   1724.76608924]\n",
      " [-1413.06122693  1518.59100013]\n",
      " [-1411.88275046  1723.58761277]\n",
      " [-1410.70427399  1928.58422541]\n",
      " [-1409.52579752  2133.58083805]\n",
      " [-1408.34732106  2338.57745069]\n",
      " [-1407.16884459  2543.57406332]\n",
      " [-1405.99036812  2748.57067596]\n",
      " [-1404.81189165  2953.5672886 ]\n",
      " [-1403.63341519  3158.56390124]\n",
      " [-1198.63680255  3157.38542477]\n",
      " [-1199.81527902  2952.38881213]\n",
      " [-1200.99375548  2747.3921995 ]\n",
      " [-1202.17223195  2542.39558686]\n",
      " [-1203.35070842  2337.39897422]\n",
      " [-1204.52918489  2132.40236158]\n",
      " [-1205.70766135  1927.40574894]\n",
      " [-1206.88613782  1722.4091363 ]\n",
      " [-1208.06461429  1517.41252366]\n",
      " [-1209.24309075  1312.41591103]\n",
      " [-1210.42156722  1107.41929839]\n",
      " [-1006.60343105   901.24420928]\n",
      " [-1005.42495458  1106.24082192]\n",
      " [-1004.24647812  1311.23743456]\n",
      " [-1003.06800165  1516.2340472 ]\n",
      " [-1001.88952518  1721.23065984]\n",
      " [-1000.71104871  1926.22727247]\n",
      " [ -999.53257225  2131.22388511]\n",
      " [ -998.35409578  2336.22049775]\n",
      " [ -997.17561931  2541.21711039]\n",
      " [ -995.99714285  2746.21372303]\n",
      " [ -994.81866638  2951.21033567]\n",
      " [ -791.00053021  2745.03524656]\n",
      " [ -792.17900667  2540.03863392]\n",
      " [ -793.35748314  2335.04202128]\n",
      " [ -794.53595961  2130.04540865]\n",
      " [ -795.71443608  1925.04879601]\n",
      " [ -796.89291254  1720.05218337]\n",
      " [ -798.07138901  1515.05557073]\n",
      " [ -799.24986548  1310.05895809]\n",
      " [ -800.42834194  1105.06234545]\n",
      " [ -801.60681841   900.06573282]\n",
      " [ -596.61020577   898.88725635]\n",
      " [ -595.43172931  1103.88386899]\n",
      " [ -594.25325284  1308.88048163]\n",
      " [ -593.07477637  1513.87709426]\n",
      " [ -591.8962999   1718.8737069 ]\n",
      " [ -590.71782344  1923.87031954]\n",
      " [ -589.53934697  2128.86693218]\n",
      " [ -588.3608705   2333.86354482]\n",
      " [ -587.18239404  2538.86015746]\n",
      " [ -384.54273433  2127.68845571]\n",
      " [ -385.7212108   1922.69184307]\n",
      " [ -386.89968727  1717.69523043]\n",
      " [ -388.07816373  1512.6986178 ]\n",
      " [ -389.2566402   1307.70200516]\n",
      " [ -390.43511667  1102.70539252]\n",
      " [ -391.61359313   897.70877988]\n",
      " [ -392.7920696    692.71216724]\n",
      " [ -187.79545696   691.53369078]\n",
      " [ -186.6169805    896.53030341]\n",
      " [ -185.43850403  1101.52691605]\n",
      " [ -184.26002756  1306.52352869]\n",
      " [ -183.08155109  1511.52014133]\n",
      " [ 1112.69715122  1573.67216974]\n",
      " [ 1111.51867475  1368.6755571 ]\n",
      " [ 1316.51528739  1367.49708063]\n",
      " [ 1317.69376386  1572.49369327]\n",
      " [ 1318.87224032  1777.49030591]\n",
      " [ 1320.05071679  1982.48691855]\n",
      " [ 1527.40428236  2391.30166736]\n",
      " [ 1526.2258059   2186.30505472]\n",
      " [ 1525.04732943  1981.30844208]\n",
      " [ 1523.86885296  1776.31182944]\n",
      " [ 1522.69037649  1571.3152168 ]\n",
      " [ 1521.51190003  1366.31860417]\n",
      " [ 1727.68698913  1570.13674034]\n",
      " [ 1728.8654656   1775.13335298]\n",
      " [ 1730.04394207  1980.12996561]\n",
      " [ 1731.22241853  2185.12657825]\n",
      " [ 1732.400895    2390.12319089]\n",
      " [ 1733.57937147  2595.11980353]\n",
      " [ 1940.93293704  3003.93455234]\n",
      " [ 1939.75446057  2798.9379397 ]\n",
      " [ 1938.57598411  2593.94132706]\n",
      " [ 1937.39750764  2388.94471442]\n",
      " [ 1936.21903117  2183.94810179]\n",
      " [ 1935.0405547   1978.95148915]\n",
      " [ 1933.86207824  1773.95487651]\n",
      " [ 1932.68360177  1568.95826387]\n",
      " [ 2138.85869088  1772.77640004]\n",
      " [ 2140.03716734  1977.77301268]\n",
      " [ 2141.21564381  2182.76962532]\n",
      " [ 2142.39412028  2387.76623796]\n",
      " [ 2143.57259674  2592.7628506 ]\n",
      " [ 2144.75107321  2797.75946323]\n",
      " [ 2145.92954968  3002.75607587]\n",
      " [ 2147.10802615  3207.75268851]\n",
      " [ 2353.28311525  3411.57082468]\n",
      " [ 2352.10463878  3206.57421204]\n",
      " [ 2350.92616232  3001.5775994 ]\n",
      " [ 2349.74768585  2796.58098677]\n",
      " [ 2348.56920938  2591.58437413]\n",
      " [ 2347.39073292  2386.58776149]\n",
      " [ 2346.21225645  2181.59114885]\n",
      " [ 2345.03377998  1976.59453621]\n",
      " [ 2551.20886909  2180.41267238]\n",
      " [ 2552.38734555  2385.40928502]\n",
      " [ 2553.56582202  2590.40589766]\n",
      " [ 2554.74429849  2795.4025103 ]\n",
      " [ 2555.92277496  3000.39912294]\n",
      " [ 2557.10125142  3205.39573558]\n",
      " [ 2558.27972789  3410.39234821]\n",
      " [ 2762.09786406  3204.21725911]\n",
      " [ 2760.91938759  2999.22064647]\n",
      " [ 2759.74091113  2794.22403383]\n",
      " [ 2758.56243466  2589.22742119]\n",
      " [ 2757.38395819  2384.23080856]\n",
      " [ 2756.20548173  2179.23419592]\n",
      " [ 2962.38057083  2383.05233209]\n",
      " [ 2963.5590473   2588.04894473]\n",
      " [ 2964.73752377  2793.04555737]\n",
      " [ 2965.91600023  2998.04217   ]\n",
      " [ 3169.7341364   2791.8670809 ]\n",
      " [ 3168.55565994  2586.87046826]\n",
      " [  734.38910437 -2601.52205349]\n",
      " [  735.56758083 -2396.52544085]\n",
      " [  736.7460573  -2191.52882821]\n",
      " [  737.92453377 -1986.53221558]\n",
      " [  739.10301024 -1781.53560294]\n",
      " [  944.09962287 -1782.7140794 ]\n",
      " [  942.92114641 -1987.71069204]\n",
      " [  941.74266994 -2192.70730468]\n",
      " [  940.56419347 -2397.70391732]\n",
      " [  939.38571701 -2602.70052996]\n",
      " [  938.20724054 -2807.6971426 ]\n",
      " [  937.02876407 -3012.69375523]\n",
      " [  935.8502876  -3217.69036787]\n",
      " [ 1138.48994731 -3628.86206962]\n",
      " [ 1139.66842378 -3423.86545698]\n",
      " [ 1140.84690024 -3218.86884434]\n",
      " [ 1142.02537671 -3013.8722317 ]\n",
      " [ 1143.20385318 -2808.87561906]\n",
      " [ 1144.38232964 -2603.87900642]\n",
      " [ 1145.56080611 -2398.88239379]\n",
      " [ 1146.73928258 -2193.88578115]\n",
      " [ 1147.91775905 -1988.88916851]\n",
      " [ 1352.91437168 -1990.06764498]\n",
      " [ 1351.73589522 -2195.06425762]\n",
      " [ 1350.55741875 -2400.06087025]\n",
      " [ 1349.37894228 -2605.05748289]\n",
      " [ 1348.20046582 -2810.05409553]\n",
      " [ 1347.02198935 -3015.05070817]\n",
      " [ 1345.84351288 -3220.04732081]\n",
      " [ 1344.66503641 -3425.04393345]\n",
      " [ 1343.48655995 -3630.04054608]\n",
      " [ 1342.30808348 -3835.03715872]\n",
      " [ 1546.12621965 -4041.21224783]\n",
      " [ 1547.30469612 -3836.21563519]\n",
      " [ 1548.48317259 -3631.21902255]\n",
      " [ 1549.66164905 -3426.22240991]\n",
      " [ 1550.84012552 -3221.22579727]\n",
      " [ 1552.01860199 -3016.22918464]\n",
      " [ 1553.19707845 -2811.232572  ]\n",
      " [ 1554.37555492 -2606.23595936]\n",
      " [ 1555.55403139 -2401.23934672]\n",
      " [ 1556.73250786 -2196.24273408]\n",
      " [ 1557.91098432 -1991.24612144]\n",
      " [ 1762.90759696 -1992.42459791]\n",
      " [ 1761.72912049 -2197.42121055]\n",
      " [ 1760.55064403 -2402.41782319]\n",
      " [ 1759.37216756 -2607.41443583]\n",
      " [ 1758.19369109 -2812.41104846]\n",
      " [ 1757.01521463 -3017.4076611 ]\n",
      " [ 1755.83673816 -3222.40427374]\n",
      " [ 1754.65826169 -3427.40088638]\n",
      " [ 1753.47978522 -3632.39749902]\n",
      " [ 1752.30130876 -3837.39411166]\n",
      " [ 1751.12283229 -4042.39072429]\n",
      " [ 1749.94435582 -4247.38733693]\n",
      " [ 1954.94096846 -4248.5658134 ]\n",
      " [ 1956.11944493 -4043.56920076]\n",
      " [ 1957.2979214  -3838.57258812]\n",
      " [ 1958.47639786 -3633.57597549]\n",
      " [ 1959.65487433 -3428.57936285]\n",
      " [ 1960.8333508  -3223.58275021]\n",
      " [ 1962.01182726 -3018.58613757]\n",
      " [ 1963.19030373 -2813.58952493]\n",
      " [ 1964.3687802  -2608.59291229]\n",
      " [ 1965.54725667 -2403.59629965]\n",
      " [ 2168.18691637 -2814.7680014 ]\n",
      " [ 2167.0084399  -3019.76461404]\n",
      " [ 2165.82996344 -3224.76122668]\n",
      " [ 2164.65148697 -3429.75783931]\n",
      " [ 2163.4730105  -3634.75445195]\n",
      " [ 2162.29453403 -3839.75106459]\n",
      " [ 2161.11605757 -4044.74767723]\n",
      " [ 2367.29114667 -3840.92954106]\n",
      " [ 2368.46962314 -3635.93292842]\n",
      " [ 2369.64809961 -3430.93631578]\n",
      " [ 2573.46623578 -3637.11140489]\n",
      " [ 2572.28775931 -3842.10801753]]\n"
     ]
    }
   ],
   "source": [
    "new_positions = np.dot(old_positions, R) + T\n",
    "print(new_positions)"
   ]
  },
  {
   "cell_type": "code",
   "execution_count": 8,
   "metadata": {
    "collapsed": false
   },
   "outputs": [
    {
     "name": "stdout",
     "output_type": "stream",
     "text": [
      "D:\\Cosmos_MOp\\20240316_DNA_from_0312\\Alignment\\translated_positions_all.txt\n"
     ]
    }
   ],
   "source": [
    "save_filename = os.path.join(new_folder, 'translated_positions_all.txt')\n",
    "print(save_filename)\n",
    "np.savetxt(save_filename, new_positions, fmt='%.2f', delimiter=',')"
   ]
  },
  {
   "cell_type": "markdown",
   "metadata": {},
   "source": [
    "# Manual adjust positions"
   ]
  },
  {
   "cell_type": "code",
   "execution_count": 9,
   "metadata": {
    "collapsed": false
   },
   "outputs": [
    {
     "name": "stdout",
     "output_type": "stream",
     "text": [
      "D:\\Cosmos_MOp\\20240312_Mecp2_Visual\\60x_positions_before.txt\n",
      "[[-3605.78 -4392.3 ]\n",
      " [-3997.4   2785.92]\n",
      " [ 2874.76  2737.15]\n",
      " [ 2943.3  -4515.61]]\n"
     ]
    }
   ],
   "source": [
    "manual_positions_before_file = os.path.join(os.path.dirname(old_folder), '60x_positions_before.txt')\n",
    "print(manual_positions_before_file)\n",
    "manual_positions = np.loadtxt(manual_positions_before_file, delimiter=',')\n",
    "print(manual_positions)"
   ]
  },
  {
   "cell_type": "raw",
   "metadata": {
    "collapsed": false
   },
   "source": [
    "manual_positions = [\n",
    "    [-3328.25,1322.05],\n",
    "    [-4186.60,2452.05],\n",
    "    [5472.40,1536.15],\n",
    "    [5928.00,-212.40],\n",
    "]\n",
    "manual_positions = np.array(manual_positions)\n",
    "print(\"original manual positions:\")\n",
    "print(manual_positions)"
   ]
  },
  {
   "cell_type": "code",
   "execution_count": 10,
   "metadata": {
    "collapsed": false
   },
   "outputs": [
    {
     "name": "stdout",
     "output_type": "stream",
     "text": [
      "translated manual positions:\n",
      "[[-2604.8 -4021.2]\n",
      " [-2955.2  3159.1]\n",
      " [ 3916.6  3070.8]\n",
      " [ 3943.5 -4182.2]]\n"
     ]
    }
   ],
   "source": [
    "translated_manual_positions = np.dot(manual_positions, R) + T\n",
    "print('translated manual positions:')\n",
    "print(np.round(translated_manual_positions, 1))"
   ]
  },
  {
   "cell_type": "code",
   "execution_count": 11,
   "metadata": {
    "collapsed": false,
    "scrolled": true
   },
   "outputs": [
    {
     "data": {
      "text/plain": [
       "array([[ 3.80761053, 17.54958706],\n",
       "       [11.75595246, 20.99690547],\n",
       "       [11.6898685 ,  8.17185004],\n",
       "       [ 2.79469363,  9.35602105]])"
      ]
     },
     "execution_count": 11,
     "metadata": {},
     "output_type": "execute_result"
    }
   ],
   "source": [
    "manual_real_positions = [\n",
    "    [-2605.9, -4015.45],\n",
    "    [-2947.7, 3168.4],\n",
    "    [3922, 3069],\n",
    "    [3946.25, -4172.85],\n",
    "]\n",
    "manual_shifts = np.array(manual_real_positions) - translated_manual_positions[:len(manual_real_positions)]\n",
    "manual_shifts"
   ]
  },
  {
   "cell_type": "code",
   "execution_count": 12,
   "metadata": {
    "collapsed": false
   },
   "outputs": [
    {
     "data": {
      "text/plain": [
       "array([ 7.51203128, 14.0185909 ])"
      ]
     },
     "execution_count": 12,
     "metadata": {},
     "output_type": "execute_result"
    }
   ],
   "source": [
    "manual_shift = np.mean(manual_shifts, axis=0)\n",
    "manual_shift"
   ]
  },
  {
   "cell_type": "code",
   "execution_count": 13,
   "metadata": {
    "collapsed": true
   },
   "outputs": [],
   "source": [
    "adjusted_new_positions = new_positions + manual_shift"
   ]
  },
  {
   "cell_type": "code",
   "execution_count": 14,
   "metadata": {
    "collapsed": false
   },
   "outputs": [
    {
     "data": {
      "text/plain": [
       "(array([-2112.25151328, -3510.41114303]), array([-3123.6, -3892.7]))"
      ]
     },
     "execution_count": 14,
     "metadata": {},
     "output_type": "execute_result"
    }
   ],
   "source": [
    "adjusted_new_positions[0], old_positions[0]"
   ]
  },
  {
   "cell_type": "code",
   "execution_count": 15,
   "metadata": {
    "collapsed": false
   },
   "outputs": [
    {
     "name": "stdout",
     "output_type": "stream",
     "text": [
      "D:\\Cosmos_MOp\\20240316_DNA_from_0312\\Alignment\\adjusted_translated_positions_all.txt\n"
     ]
    }
   ],
   "source": [
    "adj_save_filename = os.path.join(new_folder, 'adjusted_translated_positions_all.txt')\n",
    "print(adj_save_filename)\n",
    "np.savetxt(adj_save_filename, adjusted_new_positions, fmt='%.2f', delimiter=',')"
   ]
  },
  {
   "cell_type": "code",
   "execution_count": null,
   "metadata": {
    "collapsed": true
   },
   "outputs": [],
   "source": []
  }
 ],
 "metadata": {
  "kernelspec": {
   "display_name": "Python 3",
   "language": "python",
   "name": "python3"
  },
  "language_info": {
   "codemirror_mode": {
    "name": "ipython",
    "version": 3
   },
   "file_extension": ".py",
   "mimetype": "text/x-python",
   "name": "python",
   "nbconvert_exporter": "python",
   "pygments_lexer": "ipython3",
   "version": "3.9.5"
  }
 },
 "nbformat": 4,
 "nbformat_minor": 0
}
