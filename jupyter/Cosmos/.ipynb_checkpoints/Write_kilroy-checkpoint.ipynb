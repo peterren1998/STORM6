{
 "cells": [
  {
   "cell_type": "code",
   "execution_count": null,
   "metadata": {
    "collapsed": true
   },
   "outputs": [],
   "source": [
    "<protocol name = \"Hybridize 1\">\n",
    "     \t<valve duration = \"5\">Set Hyb 1</valve>\n",
    "    \t<pump duration = \"180\">Flow 2mL</pump>\n",
    "      <pump duration = \"420\">Flow 0.5mL</pump>\n",
    "     \t<valve duration = \"5\">Set Wash</valve>\n",
    "    \t<pump duration = \"180\">Flow 2mL</pump>\n",
    "     \t<pump duration = \"60\">Flow 0.5mL</pump>\n",
    "    </protocol>"
   ]
  },
  {
   "cell_type": "code",
   "execution_count": 1,
   "metadata": {
    "collapsed": false
   },
   "outputs": [
    {
     "name": "stdout",
     "output_type": "stream",
     "text": [
      "<protocol name = \"Hybridize 1\">\n",
      "<protocol name = \"Hybridize 2\">\n",
      "<protocol name = \"Hybridize 3\">\n",
      "<protocol name = \"Hybridize 4\">\n",
      "<protocol name = \"Hybridize 5\">\n",
      "<protocol name = \"Hybridize 6\">\n",
      "<protocol name = \"Hybridize 7\">\n",
      "<protocol name = \"Hybridize 8\">\n",
      "<protocol name = \"Hybridize 9\">\n",
      "<protocol name = \"Hybridize 10\">\n",
      "<protocol name = \"Hybridize 11\">\n",
      "<protocol name = \"Hybridize 12\">\n",
      "<protocol name = \"Hybridize 13\">\n",
      "<protocol name = \"Hybridize 14\">\n",
      "<protocol name = \"Hybridize 15\">\n",
      "<protocol name = \"Hybridize 16\">\n",
      "<protocol name = \"Hybridize 17\">\n",
      "<protocol name = \"Hybridize 18\">\n",
      "<protocol name = \"Hybridize 19\">\n",
      "<protocol name = \"Hybridize 20\">\n",
      "<protocol name = \"Hybridize 21\">\n",
      "<protocol name = \"Hybridize 22\">\n",
      "<protocol name = \"Hybridize 23\">\n",
      "<protocol name = \"Hybridize 24\">\n"
     ]
    }
   ],
   "source": [
    "for i in range(1,25,1):\n",
    "    print(f'<protocol name = \"Hybridize {i}\">')\n",
    "    print(f\\t<valve duration = \"5\">Set Hyb {i}</valve>')\n",
    "    print(f'<protocol name = \"Hybridize {i}\">')"
   ]
  },
  {
   "cell_type": "code",
   "execution_count": null,
   "metadata": {
    "collapsed": true
   },
   "outputs": [],
   "source": []
  }
 ],
 "metadata": {
  "kernelspec": {
   "display_name": "Python 3",
   "language": "python",
   "name": "python3"
  },
  "language_info": {
   "codemirror_mode": {
    "name": "ipython",
    "version": 3
   },
   "file_extension": ".py",
   "mimetype": "text/x-python",
   "name": "python",
   "nbconvert_exporter": "python",
   "pygments_lexer": "ipython3",
   "version": "3.9.5"
  }
 },
 "nbformat": 4,
 "nbformat_minor": 0
}
