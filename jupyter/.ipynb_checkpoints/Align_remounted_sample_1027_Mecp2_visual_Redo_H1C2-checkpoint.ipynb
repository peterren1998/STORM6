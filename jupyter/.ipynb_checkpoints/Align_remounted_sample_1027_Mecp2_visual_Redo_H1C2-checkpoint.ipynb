{
 "cells": [
  {
   "cell_type": "code",
   "execution_count": 1,
   "metadata": {
    "collapsed": false
   },
   "outputs": [
    {
     "data": {
      "text/plain": [
       "(True, True)"
      ]
     },
     "execution_count": 1,
     "metadata": {},
     "output_type": "execute_result"
    }
   ],
   "source": [
    "import os\n",
    "\n",
    "old_folder = r'D:\\Cosmos_MOp\\20240918_Mecp2_27wk_visual\\Alignment'\n",
    "\n",
    "before_position_file = os.path.join(old_folder, '10x_positions_before.txt')\n",
    "\n",
    "new_folder = r'D:\\Cosmos_MOp\\20241026_DNA_from_Mecp2_0918\\Alignment_H1C2'\n",
    "\n",
    "after_position_file = os.path.join(new_folder, '10x_positions_after.txt')\n",
    "\n",
    "os.path.isfile(before_position_file), os.path.isfile(after_position_file)\n",
    "\n"
   ]
  },
  {
   "cell_type": "markdown",
   "metadata": {},
   "source": [
    "# Calculate rotation matrix"
   ]
  },
  {
   "cell_type": "code",
   "execution_count": 2,
   "metadata": {
    "collapsed": true
   },
   "outputs": [],
   "source": [
    "import numpy as np\n",
    "import os\n",
    "# 1. alignment for manually picked points\n",
    "def align_manual_points(pos_file_before, pos_file_after,\n",
    "                        save=True, save_folder=None, save_filename='', verbose=True):\n",
    "    \"\"\"Function to align two manually picked position files, \n",
    "    they should follow exactly the same order and of same length.\n",
    "    Inputs:\n",
    "        pos_file_before: full filename for positions file before translation\n",
    "        pos_file_after: full filename for positions file after translation\n",
    "        save: whether save rotation and translation info, bool (default: True)\n",
    "        save_folder: where to save rotation and translation info, None or string (default: same folder as pos_file_before)\n",
    "        save_filename: filename specified to save rotation and translation points\n",
    "        verbose: say something! bool (default: True)\n",
    "    Outputs:\n",
    "        R: rotation for positions, 2x2 array\n",
    "        T: traslation of positions, array of 2\n",
    "    Here's example for how to translate points\n",
    "        translated_ps_before = np.dot(ps_before, R) + t\n",
    "    \"\"\"\n",
    "    # load position_before\n",
    "    if os.path.isfile(pos_file_before):\n",
    "        ps_before = np.loadtxt(pos_file_before, delimiter=',')\n",
    "\n",
    "    # load position_after\n",
    "    if os.path.isfile(pos_file_after):\n",
    "        ps_after = np.loadtxt(pos_file_after, delimiter=',')\n",
    "\n",
    "    # do SVD decomposition to get best fit for rigid-translation\n",
    "    c_before = np.mean(ps_before, axis=0)\n",
    "    c_after = np.mean(ps_after, axis=0)\n",
    "    H = np.dot((ps_before - c_before).T, (ps_after - c_after))\n",
    "    U, _, V = np.linalg.svd(H)  # do SVD\n",
    "    # calcluate rotation\n",
    "    R = np.dot(V, U.T).T\n",
    "    if np.linalg.det(R) < 0:\n",
    "        R[:, -1] = -1 * R[:, -1]\n",
    "    # calculate translation\n",
    "    t = - np.dot(c_before, R) + c_after\n",
    "    # here's example for how to translate points\n",
    "    # translated_ps_before = np.dot(ps_before, R) + t\n",
    "    # save\n",
    "    if save:\n",
    "        if save_folder is None:\n",
    "            save_folder = os.path.dirname(pos_file_before)\n",
    "        if not os.path.exists(save_folder):\n",
    "            os.makedirs(save_folder)\n",
    "        if len(save_filename) > 0:\n",
    "            save_filename += '_'\n",
    "        rotation_name = os.path.join(save_folder, save_filename+'rotation')\n",
    "        translation_name = os.path.join(\n",
    "            save_folder, save_filename+'translation')\n",
    "        np.save(rotation_name, R)\n",
    "        np.save(translation_name, t)\n",
    "\n",
    "    return R, t"
   ]
  },
  {
   "cell_type": "code",
   "execution_count": 3,
   "metadata": {
    "collapsed": false
   },
   "outputs": [
    {
     "data": {
      "text/plain": [
       "(array([[ 0.99991867,  0.01275391],\n",
       "        [-0.01275391,  0.99991867]]),\n",
       " array([-1519.60505975,  1284.62351792]))"
      ]
     },
     "execution_count": 3,
     "metadata": {},
     "output_type": "execute_result"
    }
   ],
   "source": [
    "R, T = align_manual_points(before_position_file, after_position_file, save=False, save_folder=new_folder)\n",
    "R, T"
   ]
  },
  {
   "cell_type": "code",
   "execution_count": 4,
   "metadata": {
    "collapsed": false
   },
   "outputs": [
    {
     "data": {
      "text/plain": [
       "1.5580420755147795"
      ]
     },
     "execution_count": 4,
     "metadata": {},
     "output_type": "execute_result"
    }
   ],
   "source": [
    "np.arccos(R[0,1])"
   ]
  },
  {
   "cell_type": "markdown",
   "metadata": {},
   "source": [
    "# Translate 60x positions"
   ]
  },
  {
   "cell_type": "code",
   "execution_count": 5,
   "metadata": {
    "collapsed": false
   },
   "outputs": [],
   "source": [
    "old_positions = np.loadtxt(os.path.join(os.path.dirname(old_folder), 'positions_all.txt'), delimiter=',')"
   ]
  },
  {
   "cell_type": "code",
   "execution_count": 6,
   "metadata": {
    "collapsed": false
   },
   "outputs": [
    {
     "name": "stdout",
     "output_type": "stream",
     "text": [
      "[[-4497.71094971   160.54961103]\n",
      " [-4500.32550034   365.53293748]\n",
      " [-4502.94005097   570.51626394]\n",
      " [-4505.55460159   775.49959039]\n",
      " [-4508.16915222   980.48291685]\n",
      " [-4510.78370284  1185.46624331]\n",
      " [-4513.39825347  1390.44956976]\n",
      " [-4308.41492701  1393.06412039]\n",
      " [-4305.80037639  1188.08079393]\n",
      " [-4303.18582576   983.09746748]\n",
      " [-4300.57127514   778.11414102]\n",
      " [-4297.95672451   573.13081456]\n",
      " [-4295.34217388   368.14748811]\n",
      " [-4292.72762326   163.16416165]\n",
      " [-4085.12974618   -39.20461418]\n",
      " [-4087.7442968    165.77871228]\n",
      " [-4090.35884743   370.76203873]\n",
      " [-4092.97339805   575.74536519]\n",
      " [-4095.58794868   780.72869165]\n",
      " [-4098.2024993    985.7120181 ]\n",
      " [-4100.81704993  1190.69534456]\n",
      " [-3895.83372347  1193.30989518]\n",
      " [-3893.21917285   988.32656873]\n",
      " [-3890.60462222   783.34324227]\n",
      " [-3887.9900716    578.35991582]\n",
      " [-3885.37552097   373.37658936]\n",
      " [-3882.76097035   168.3932629 ]\n",
      " [-3880.14641972   -36.59006355]\n",
      " [-3672.54854264  -238.95883938]\n",
      " [-3675.16309326   -33.97551293]\n",
      " [-3677.77764389   171.00781353]\n",
      " [-3680.39219452   375.99113999]\n",
      " [-3683.00674514   580.97446644]\n",
      " [-3685.62129577   785.9577929 ]\n",
      " [-3688.23584639   990.94111935]\n",
      " [-3483.25251994   993.55566998]\n",
      " [-3480.63796931   788.57234352]\n",
      " [-3478.02341868   583.58901707]\n",
      " [-3475.40886806   378.60569061]\n",
      " [-3472.79431743   173.62236415]\n",
      " [-3470.17976681   -31.3609623 ]\n",
      " [-3467.56521618  -236.34428876]\n",
      " [-3464.95066556  -441.32761521]\n",
      " [-3259.9673391   -438.71306459]\n",
      " [-3262.58188973  -233.72973813]\n",
      " [-3265.19644035   -28.74641168]\n",
      " [-3267.81099098   176.23691478]\n",
      " [-3270.4255416    381.22024124]\n",
      " [-3273.04009223   586.20356769]\n",
      " [-3275.65464285   791.18689415]\n",
      " [-3070.6713164    793.80144477]\n",
      " [-3068.05676577   588.81811832]\n",
      " [-3065.44221515   383.83479186]\n",
      " [-3062.82766452   178.85146541]\n",
      " [-3060.2131139    -26.13186105]\n",
      " [-3057.59856327  -231.11518751]\n",
      " [-3054.98401264  -436.09851396]\n",
      " [-2850.00068619  -433.48396334]\n",
      " [-2852.61523681  -228.50063688]\n",
      " [-2855.22978744   -23.51731042]\n",
      " [-2857.84433806   181.46601603]\n",
      " [-2860.45888869   386.44934249]\n",
      " [-2652.86101161   184.08056666]\n",
      " [-2650.24646098   -20.9027598 ]\n",
      " [-2647.63191036  -225.88608625]\n",
      " [-6780.26332802  3129.57963787]\n",
      " [-6777.64877739  2924.59631141]\n",
      " [-6775.03422676  2719.61298496]\n",
      " [-6772.41967614  2514.6296585 ]\n",
      " [-6564.82179906  2312.26088267]\n",
      " [-6567.43634968  2517.24420913]\n",
      " [-6570.05090031  2722.22753558]\n",
      " [-6572.66545093  2927.21086204]\n",
      " [-6575.28000156  3132.1941885 ]\n",
      " [-6370.2966751   3134.80873912]\n",
      " [-6367.68212448  2929.82541267]\n",
      " [-6365.06757385  2724.84208621]\n",
      " [-6362.45302323  2519.85875975]\n",
      " [-6359.8384726   2314.8754333 ]\n",
      " [-6357.22392197  2109.89210684]\n",
      " [-6149.62604489  1907.52333101]\n",
      " [-6152.24059552  2112.50665747]\n",
      " [-6154.85514614  2317.48998392]\n",
      " [-6157.46969677  2522.47331038]\n",
      " [-6160.0842474   2727.45663684]\n",
      " [-6162.69879802  2932.43996329]\n",
      " [-6165.31334865  3137.42328975]\n",
      " [-5960.33002219  3140.03784037]\n",
      " [-5957.71547157  2935.05451392]\n",
      " [-5955.10092094  2730.07118746]\n",
      " [-5952.48637031  2525.08786101]\n",
      " [-5949.87181969  2320.10453455]\n",
      " [-5947.25726906  2115.12120809]\n",
      " [-5944.64271844  1910.13788164]\n",
      " [-5737.04484135  1707.76910581]\n",
      " [-5739.65939198  1912.75243226]\n",
      " [-5742.27394261  2117.73575872]\n",
      " [-5744.88849323  2322.71908517]\n",
      " [-5747.50304386  2527.70241163]\n",
      " [-5750.11759448  2732.68573809]\n",
      " [-5752.73214511  2937.66906454]\n",
      " [-5547.74881865  2940.28361517]\n",
      " [-5545.13426803  2735.30028871]\n",
      " [-5542.5197174   2530.31696226]\n",
      " [-5539.90516678  2325.3336358 ]\n",
      " [-5537.29061615  2120.35030934]\n",
      " [-5534.67606552  1915.36698289]\n",
      " [-5532.0615149   1710.38365643]\n",
      " [-5327.07818844  1712.99820706]\n",
      " [-5329.69273907  1917.98153351]\n",
      " [-5332.30728969  2122.96485997]\n",
      " [-5334.92184032  2327.94818643]\n",
      " [-5337.53639095  2532.93151288]\n",
      " [-5340.15094157  2737.91483934]\n",
      " [-5135.16761512  2740.52938996]\n",
      " [-5132.55306449  2535.54606351]\n",
      " [-5129.93851386  2330.56273705]\n",
      " [-5127.32396324  2125.5794106 ]\n",
      " [-5124.70941261  1920.59608414]\n",
      " [-5122.09486199  1715.61275768]\n",
      " [-4917.11153553  1718.22730831]\n",
      " [-4919.72608616  1923.21063477]\n",
      " [-4922.34063678  2128.19396122]\n",
      " [-4924.95518741  2333.17728768]\n",
      " [-4927.56973803  2538.16061413]\n",
      " [-4722.58641158  2540.77516476]\n",
      " [-4719.97186095  2335.7918383 ]\n",
      " [-4717.35731033  2130.80851185]\n",
      " [-4714.7427597   1925.82518539]\n",
      " [-4712.12820907  1720.84185894]\n",
      " [-4507.14488262  1723.45640956]\n",
      " [-4509.75943324  1928.43973602]\n",
      " [-4512.37398387  2133.42306247]\n",
      " [-4514.9885345   2338.40638893]\n",
      " [-4517.60308512  2543.38971539]\n",
      " [-4312.61975867  2546.00426601]\n",
      " [-4310.00520804  2341.02093956]\n",
      " [-4307.39065741  2136.0376131 ]\n",
      " [-4304.77610679  1931.05428664]\n",
      " [-4302.16155616  1726.07096019]\n",
      " [-1632.74857901  3412.15353746]\n",
      " [-1422.5361513   3004.80143518]\n",
      " [-1425.15070193  3209.78476163]\n",
      " [-1427.76525255  3414.76808809]\n",
      " [-1430.37980318  3619.75141455]\n",
      " [-1432.9943538   3824.734741  ]\n",
      " [-1228.01102735  3827.34929163]\n",
      " [-1225.39647672  3622.36596517]\n",
      " [-1222.78192609  3417.38263872]\n",
      " [-1220.16737547  3212.39931226]\n",
      " [-1217.55282484  3007.4159858 ]\n",
      " [-1214.93827422  2802.43265935]\n",
      " [-1007.34039714  2600.06388352]\n",
      " [-1009.95494776  2805.04720997]\n",
      " [-1012.56949839  3010.03053643]\n",
      " [-1015.18404901  3215.01386289]\n",
      " [-1017.79859964  3419.99718934]\n",
      " [-1020.41315026  3624.9805158 ]\n",
      " [-1023.02770089  3829.96384225]\n",
      " [ -818.04437443  3832.57839288]\n",
      " [ -815.42982381  3627.59506642]\n",
      " [ -812.81527318  3422.61173997]\n",
      " [ -810.20072256  3217.62841351]\n",
      " [ -807.58617193  3012.64508706]\n",
      " [ -804.97162131  2807.6617606 ]\n",
      " [ -802.35707068  2602.67843414]\n",
      " [ -799.74252005  2397.69510769]\n",
      " [ -594.7591936   2400.30965831]\n",
      " [ -597.37374422  2605.29298477]\n",
      " [ -599.98829485  2810.27631123]\n",
      " [ -602.60284547  3015.25963768]\n",
      " [ -605.2173961   3220.24296414]\n",
      " [ -607.83194673  3425.22629059]\n",
      " [ -610.44649735  3630.20961705]\n",
      " [ -613.06104798  3835.19294351]\n",
      " [ -405.4631709   3632.82416768]\n",
      " [ -402.84862027  3427.84084122]\n",
      " [ -400.23406964  3222.85751476]\n",
      " [ -397.61951902  3017.87418831]\n",
      " [ -395.00496839  2812.89086185]\n",
      " [ -392.39041777  2607.9075354 ]\n",
      " [ -389.77586714  2402.92420894]\n",
      " [ -182.17799006  2200.55543311]\n",
      " [ -184.79254069  2405.53875957]\n",
      " [ -187.40709131  2610.52208602]\n",
      " [ -190.02164194  2815.50541248]\n",
      " [ -192.63619256  3020.48873893]\n",
      " [ -195.25074319  3225.47206539]\n",
      " [ -197.86529381  3430.45539185]\n",
      " [    9.73258327  3228.08661602]\n",
      " [   12.34713389  3023.10328956]\n",
      " [   14.96168452  2818.1199631 ]\n",
      " [   17.57623515  2613.13663665]\n",
      " [   20.19078577  2408.15331019]\n",
      " [   22.8053364   2203.16998373]\n",
      " [  227.78866285  2205.78453436]\n",
      " [  225.17411223  2410.76786082]\n",
      " [  222.5595616   2615.75118727]\n",
      " [  219.94501098  2820.73451373]\n",
      " [  217.33046035  3025.71784019]\n",
      " [  214.71590972  3230.70116664]\n",
      " [  419.69923618  3233.31571727]\n",
      " [  422.31378681  3028.33239081]\n",
      " [  424.92833743  2823.34906435]\n",
      " [  427.54288806  2618.3657379 ]\n",
      " [  430.15743868  2413.38241144]\n",
      " [  635.14076514  2415.99696207]\n",
      " [  632.52621451  2620.98028852]\n",
      " [  629.91166389  2825.96361498]\n",
      " [  627.29711326  3030.94694144]\n",
      " [  624.68256264  3235.93026789]\n",
      " [  829.66588909  3238.54481852]\n",
      " [  832.28043972  3033.56149206]\n",
      " [  834.89499034  2828.57816561]\n",
      " [  837.50954097  2623.59483915]\n",
      " [  840.1240916   2418.61151269]\n",
      " [  388.41526858  -178.86080269]\n",
      " [  385.80071795    26.12252376]\n",
      " [  383.18616732   231.10585022]\n",
      " [  380.5716167    436.08917667]\n",
      " [  377.95706607   641.07250313]\n",
      " [  375.34251545   846.05582959]\n",
      " [  580.3258419    848.67038021]\n",
      " [  582.94039253   643.68705376]\n",
      " [  585.55494315   438.7037273 ]\n",
      " [  588.16949378   233.72040084]\n",
      " [  590.78404441    28.73707439]\n",
      " [  593.39859503  -176.24625207]\n",
      " [  798.38192149  -173.63170144]\n",
      " [  795.76737086    31.35162501]\n",
      " [  793.15282024   236.33495147]\n",
      " [  790.53826961   441.31827793]\n",
      " [  787.92371898   646.30160438]\n",
      " [  785.30916836   851.28493084]\n",
      " [  990.29249482   853.89948146]\n",
      " [  992.90704544   648.91615501]\n",
      " [  995.52159607   443.93282855]\n",
      " [  998.13614669   238.9495021 ]\n",
      " [ 1000.75069732    33.96617564]\n",
      " [ 1003.36524794  -171.01715082]\n",
      " [ 1210.96312503  -373.38592665]\n",
      " [ 1208.3485744   -168.40260019]\n",
      " [ 1205.73402377    36.58072627]\n",
      " [ 1203.11947315   241.56405272]\n",
      " [ 1200.50492252   446.54737918]\n",
      " [ 1197.8903719    651.53070563]\n",
      " [ 1195.27582127   856.51403209]\n",
      " [ 1400.25914773   859.12858272]\n",
      " [ 1402.87369835   654.14525626]\n",
      " [ 1405.48824898   449.1619298 ]\n",
      " [ 1408.1027996    244.17860335]\n",
      " [ 1410.71735023    39.19527689]\n",
      " [ 1413.33190086  -165.78804956]\n",
      " [ 1415.94645148  -370.77137602]\n",
      " [ 1418.56100211  -575.75470248]\n",
      " [ 1628.77342982  -983.10680476]\n",
      " [ 1626.15887919  -778.12347831]\n",
      " [ 1623.54432856  -573.14015185]\n",
      " [ 1620.92977794  -368.15682539]\n",
      " [ 1618.31522731  -163.17349894]\n",
      " [ 1615.70067669    41.80982752]\n",
      " [ 1613.08612606   246.79315397]\n",
      " [ 1610.47157544   451.77648043]\n",
      " [ 1607.85702481   656.75980689]\n",
      " [ 1812.84035127   659.37435751]\n",
      " [ 1815.45490189   454.39103106]\n",
      " [ 1818.06945252   249.4077046 ]\n",
      " [ 1820.68400314    44.42437814]\n",
      " [ 1823.29855377  -160.55894831]\n",
      " [ 1825.91310439  -365.54227477]\n",
      " [ 1828.52765502  -570.52560122]\n",
      " [ 1831.14220565  -775.50892768]\n",
      " [ 1833.75675627  -980.49225414]\n",
      " [ 2038.74008273  -977.87770351]\n",
      " [ 2036.1255321   -772.89437706]\n",
      " [ 2033.51098148  -567.9110506 ]\n",
      " [ 2030.89643085  -362.92772414]\n",
      " [ 2028.28188023  -157.94439769]\n",
      " [ 2025.6673296     47.03892877]\n",
      " [ 2023.05277897   252.02225523]\n",
      " [ 2020.43822835   457.00558168]\n",
      " [ 2228.03610543   254.63680585]\n",
      " [ 2230.65065606    49.6534794 ]\n",
      " [ 2233.26520668  -155.32984706]\n",
      " [ 2235.87975731  -360.31317352]\n",
      " [ 2238.49430793  -565.29649997]\n",
      " [ 2241.10885856  -770.27982643]\n",
      " [ 2243.72340918  -975.26315289]\n",
      " [ 2448.70673564  -972.64860226]\n",
      " [ 2446.09218501  -767.6652758 ]\n",
      " [ 2443.47763439  -562.68194935]\n",
      " [ 2440.86308376  -357.69862289]\n",
      " [ 2438.24853314  -152.71529643]\n",
      " [ 2435.63398251    52.26803002]]\n"
     ]
    }
   ],
   "source": [
    "new_positions = np.dot(old_positions, R) + T\n",
    "print(new_positions)"
   ]
  },
  {
   "cell_type": "code",
   "execution_count": 7,
   "metadata": {
    "collapsed": false
   },
   "outputs": [
    {
     "name": "stdout",
     "output_type": "stream",
     "text": [
      "D:\\Cosmos_MOp\\20241026_DNA_from_Mecp2_0918\\Alignment_H1C2\\translated_positions_all.txt\n"
     ]
    }
   ],
   "source": [
    "save_filename = os.path.join(new_folder, 'translated_positions_all.txt')\n",
    "print(save_filename)\n",
    "np.savetxt(save_filename, new_positions, fmt='%.2f', delimiter=',')"
   ]
  },
  {
   "cell_type": "markdown",
   "metadata": {},
   "source": [
    "# Manual adjust positions"
   ]
  },
  {
   "cell_type": "code",
   "execution_count": 8,
   "metadata": {
    "collapsed": false
   },
   "outputs": [
    {
     "name": "stdout",
     "output_type": "stream",
     "text": [
      "D:\\Cosmos_MOp\\20240918_Mecp2_27wk_visual\\60x_positions_before.txt\n",
      "[[-4529.14 -1167.52]\n",
      " [-2580.61  2394.28]\n",
      " [ 2981.92  2598.88]\n",
      " [ 2871.93 -1764.13]]\n"
     ]
    }
   ],
   "source": [
    "manual_positions_before_file = os.path.join(os.path.dirname(old_folder), '60x_positions_before.txt')\n",
    "print(manual_positions_before_file)\n",
    "manual_positions = np.loadtxt(manual_positions_before_file, delimiter=',')\n",
    "print(manual_positions)"
   ]
  },
  {
   "cell_type": "raw",
   "metadata": {
    "collapsed": false
   },
   "source": [
    "manual_positions = [\n",
    "    [-3328.25,1322.05],\n",
    "    [-4186.60,2452.05],\n",
    "    [5472.40,1536.15],\n",
    "    [5928.00,-212.40],\n",
    "]\n",
    "manual_positions = np.array(manual_positions)\n",
    "print(\"original manual positions:\")\n",
    "print(manual_positions)"
   ]
  },
  {
   "cell_type": "code",
   "execution_count": 9,
   "metadata": {
    "collapsed": false
   },
   "outputs": [
    {
     "name": "stdout",
     "output_type": "stream",
     "text": [
      "translated manual positions:\n",
      "[[-6033.5    59.4]\n",
      " [-4130.5  3645.8]\n",
      " [ 1428.9  3921.3]\n",
      " [ 1374.6  -442.7]]\n"
     ]
    }
   ],
   "source": [
    "translated_manual_positions = np.dot(manual_positions, R) + T\n",
    "print('translated manual positions:')\n",
    "print(np.round(translated_manual_positions, 1))"
   ]
  },
  {
   "cell_type": "code",
   "execution_count": 10,
   "metadata": {
    "collapsed": false,
    "scrolled": true
   },
   "outputs": [
    {
     "data": {
      "text/plain": [
       "array([[-44.51375469,  31.5657461 ],\n",
       "       [-34.45841167,  32.20407536],\n",
       "       [-38.92653779,  10.67673445],\n",
       "       [-41.59090096,   6.73467389]])"
      ]
     },
     "execution_count": 10,
     "metadata": {},
     "output_type": "execute_result"
    }
   ],
   "source": [
    "manual_real_positions = [\n",
    "    [-6078, 91],\n",
    "    [-4165, 3678],\n",
    "    [1390, 3932],\n",
    "    [1333, -436],\n",
    "]\n",
    "manual_shifts = np.array(manual_real_positions) - translated_manual_positions[:len(manual_real_positions)]\n",
    "manual_shifts"
   ]
  },
  {
   "cell_type": "code",
   "execution_count": 11,
   "metadata": {
    "collapsed": false
   },
   "outputs": [
    {
     "data": {
      "text/plain": [
       "array([-39.87240128,  20.29530745])"
      ]
     },
     "execution_count": 11,
     "metadata": {},
     "output_type": "execute_result"
    }
   ],
   "source": [
    "manual_shift = np.mean(manual_shifts, axis=0)\n",
    "manual_shift"
   ]
  },
  {
   "cell_type": "code",
   "execution_count": 12,
   "metadata": {
    "collapsed": true
   },
   "outputs": [],
   "source": [
    "adjusted_new_positions = new_positions + manual_shift"
   ]
  },
  {
   "cell_type": "code",
   "execution_count": 13,
   "metadata": {
    "collapsed": false
   },
   "outputs": [
    {
     "data": {
      "text/plain": [
       "(array([-4537.58335099,   180.84491848]), array([-2992.2, -1086. ]))"
      ]
     },
     "execution_count": 13,
     "metadata": {},
     "output_type": "execute_result"
    }
   ],
   "source": [
    "adjusted_new_positions[0], old_positions[0]"
   ]
  },
  {
   "cell_type": "code",
   "execution_count": 14,
   "metadata": {
    "collapsed": false
   },
   "outputs": [
    {
     "name": "stdout",
     "output_type": "stream",
     "text": [
      "D:\\Cosmos_MOp\\20241026_DNA_from_Mecp2_0918\\Alignment_H1C2\\adjusted_translated_positions_all.txt\n"
     ]
    }
   ],
   "source": [
    "adj_save_filename = os.path.join(new_folder, 'adjusted_translated_positions_all.txt')\n",
    "print(adj_save_filename)\n",
    "np.savetxt(adj_save_filename, adjusted_new_positions, fmt='%.2f', delimiter=',')"
   ]
  },
  {
   "cell_type": "code",
   "execution_count": null,
   "metadata": {
    "collapsed": true
   },
   "outputs": [],
   "source": []
  }
 ],
 "metadata": {
  "kernelspec": {
   "display_name": "Python 3",
   "language": "python",
   "name": "python3"
  },
  "language_info": {
   "codemirror_mode": {
    "name": "ipython",
    "version": 3
   },
   "file_extension": ".py",
   "mimetype": "text/x-python",
   "name": "python",
   "nbconvert_exporter": "python",
   "pygments_lexer": "ipython3",
   "version": "3.9.5"
  }
 },
 "nbformat": 4,
 "nbformat_minor": 0
}
