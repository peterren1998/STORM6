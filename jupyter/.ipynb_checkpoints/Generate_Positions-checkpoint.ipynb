{
 "cells": [
  {
   "cell_type": "markdown",
   "metadata": {},
   "source": [
    "# Generate positions"
   ]
  },
  {
   "cell_type": "code",
   "execution_count": 1,
   "metadata": {
    "collapsed": true
   },
   "outputs": [],
   "source": [
    "import numpy as np\n",
    "import os\n",
    "import matplotlib.pyplot as plt"
   ]
  },
  {
   "cell_type": "code",
   "execution_count": 2,
   "metadata": {
    "collapsed": false
   },
   "outputs": [
    {
     "data": {
      "text/plain": [
       "221.184"
      ]
     },
     "execution_count": 2,
     "metadata": {},
     "output_type": "execute_result"
    }
   ],
   "source": [
    "0.108 * 2048"
   ]
  },
  {
   "cell_type": "code",
   "execution_count": 5,
   "metadata": {
    "collapsed": false,
    "scrolled": true
   },
   "outputs": [
    {
     "name": "stdout",
     "output_type": "stream",
     "text": [
      "size: 210\n",
      "[0, 0] 8 8\n"
     ]
    }
   ],
   "source": [
    "#center = [-819.40,-739.05] # center you picked\n",
    "#new center\n",
    "center = [0, 0] \n",
    "dim_x, dim_y = 8, 8 # x, y dimension of square we want to image\n",
    "size = int(2048 * 0.108 * 0.95) # each field of view is 2048*0.108 um in x and y\n",
    "print('size:', size)\n",
    "frame_dimension = size; # need based selection\n",
    "\n",
    "print(center, dim_x, dim_y)\n",
    "\n",
    "# indices of positions\n",
    "pos_indices = np.indices([dim_x,dim_y]) - np.array([float(dim_x-1)/2,float(dim_y-1)/2])[:,np.newaxis,np.newaxis]\n",
    "# calculate positions\n",
    "positions = pos_indices * np.array([frame_dimension,frame_dimension])[:,np.newaxis,np.newaxis] + np.array(center)[:,np.newaxis,np.newaxis]\n",
    "# sort position\n",
    "sorted_positions = np.zeros([dim_x*dim_y, 2])\n",
    "for i in range(dim_x):\n",
    "    if not i%2:\n",
    "        sorted_positions[i*dim_y:(i+1)*dim_y,:] = positions[:,i].transpose()\n",
    "    else:\n",
    "        sorted_positions[i*dim_y:(i+1)*dim_y,:] = np.fliplr(positions[:,i]).transpose()\n",
    "sorted_positions = np.round(sorted_positions, 1)"
   ]
  },
  {
   "cell_type": "code",
   "execution_count": 6,
   "metadata": {
    "collapsed": false,
    "scrolled": true
   },
   "outputs": [
    {
     "data": {
      "image/png": "[encoded data removed]",
      "text/plain": [
       "<Figure size 576x576 with 1 Axes>"
      ]
     },
     "metadata": {
      "needs_background": "light"
     },
     "output_type": "display_data"
    }
   ],
   "source": [
    "plt.figure(figsize=(dim_x, dim_y))\n",
    "plt.plot(sorted_positions[:,0],sorted_positions[:,1],'o-')\n",
    "plt.show()"
   ]
  },
  {
   "cell_type": "code",
   "execution_count": 7,
   "metadata": {
    "collapsed": true
   },
   "outputs": [],
   "source": [
    "# write into a file\n",
    "data_folder = r'D:\\Pu\\20210801-MEF_CTP10_Aire_DNA'\n",
    "fl = os.path.join(data_folder, 'positions_all.txt')\n",
    "\n",
    "f = open(fl,'w')\n",
    "for position in sorted_positions:\n",
    "    f.write(str(position[0])+\", \"+str(position[1])+\"\\n\")\n",
    "f.close()"
   ]
  },
  {
   "cell_type": "code",
   "execution_count": 11,
   "metadata": {
    "collapsed": false
   },
   "outputs": [
    {
     "name": "stdout",
     "output_type": "stream",
     "text": [
      "-485.0, -735.0\n",
      "-485.0, -525.0\n",
      "-485.0, -315.0\n",
      "-485.0, -105.0\n",
      "-485.0, 105.0\n",
      "-485.0, 315.0\n",
      "-485.0, 525.0\n",
      "-485.0, 735.0\n",
      "-275.0, 735.0\n",
      "-275.0, 525.0\n",
      "-275.0, 315.0\n",
      "-275.0, 105.0\n",
      "-275.0, -105.0\n",
      "-275.0, -315.0\n",
      "-275.0, -525.0\n",
      "-275.0, -735.0\n",
      "-65.0, -735.0\n",
      "-65.0, -525.0\n",
      "-65.0, -315.0\n",
      "-65.0, -105.0\n",
      "-65.0, 105.0\n",
      "-65.0, 315.0\n",
      "-65.0, 525.0\n",
      "-65.0, 735.0\n",
      "145.0, 735.0\n",
      "145.0, 525.0\n",
      "145.0, 315.0\n",
      "145.0, 105.0\n",
      "145.0, -105.0\n",
      "145.0, -315.0\n",
      "145.0, -525.0\n",
      "145.0, -735.0\n",
      "355.0, -735.0\n",
      "355.0, -525.0\n",
      "355.0, -315.0\n",
      "355.0, -105.0\n",
      "355.0, 105.0\n",
      "355.0, 315.0\n",
      "355.0, 525.0\n",
      "355.0, 735.0\n",
      "565.0, 735.0\n",
      "565.0, 525.0\n",
      "565.0, 315.0\n",
      "565.0, 105.0\n",
      "565.0, -105.0\n",
      "565.0, -315.0\n",
      "565.0, -525.0\n",
      "565.0, -735.0\n",
      "775.0, -735.0\n",
      "775.0, -525.0\n",
      "775.0, -315.0\n",
      "775.0, -105.0\n",
      "775.0, 105.0\n",
      "775.0, 315.0\n",
      "775.0, 525.0\n",
      "775.0, 735.0\n",
      "985.0, 735.0\n",
      "985.0, 525.0\n",
      "985.0, 315.0\n",
      "985.0, 105.0\n",
      "985.0, -105.0\n",
      "985.0, -315.0\n",
      "985.0, -525.0\n",
      "985.0, -735.0\n"
     ]
    }
   ],
   "source": [
    "for position in sorted_positions:\n",
    "    print(str(position[0])+\", \"+str(position[1]))"
   ]
  },
  {
   "cell_type": "code",
   "execution_count": 8,
   "metadata": {
    "collapsed": false
   },
   "outputs": [
    {
     "name": "stdout",
     "output_type": "stream",
     "text": [
      "['D:\\\\Pu\\\\lumencor_test_MEF\\\\positions.txt']\n"
     ]
    }
   ],
   "source": [
    "pos_files = [os.path.join(data_folder, _fl) for _fl in os.listdir(data_folder) if _fl.split(os.extsep)[-1]=='txt']\n",
    "print(pos_files)"
   ]
  },
  {
   "cell_type": "code",
   "execution_count": 35,
   "metadata": {
    "collapsed": false,
    "scrolled": true
   },
   "outputs": [
    {
     "name": "stdout",
     "output_type": "stream",
     "text": [
      "[[-3749.3 -1790.1]\n",
      " [-3749.3 -1580.1]\n",
      " [-3749.3 -1370.1]\n",
      " [-3749.3 -1160.1]\n",
      " [-3749.3  -950.1]\n",
      " [-3749.3  -740.1]\n",
      " [-3749.3  -530.1]\n",
      " [-3749.3  -320.1]\n",
      " [-3749.3  -110.1]\n",
      " [-3539.3  -110.1]\n",
      " [-3539.3  -320.1]\n",
      " [-3539.3  -530.1]\n",
      " [-3539.3  -740.1]\n",
      " [-3539.3  -950.1]\n",
      " [-3539.3 -1160.1]\n",
      " [-3539.3 -1370.1]\n",
      " [-3539.3 -1580.1]\n",
      " [-3539.3 -1790.1]\n",
      " [-3329.3 -1790.1]\n",
      " [-3329.3 -1580.1]\n",
      " [-3329.3 -1370.1]\n",
      " [-3329.3 -1160.1]\n",
      " [-3329.3  -950.1]\n",
      " [-3329.3  -740.1]\n",
      " [-3329.3  -530.1]\n",
      " [-3329.3  -320.1]\n",
      " [-3329.3  -110.1]\n",
      " [-3119.3  -110.1]\n",
      " [-3119.3  -320.1]\n",
      " [-3119.3  -530.1]\n",
      " [-3119.3  -740.1]\n",
      " [-3119.3  -950.1]\n",
      " [-3119.3 -1160.1]\n",
      " [-3119.3 -1370.1]\n",
      " [-3119.3 -1580.1]\n",
      " [-3119.3 -1790.1]\n",
      " [-1971.  -1937. ]\n",
      " [-1971.  -1727. ]\n",
      " [-1971.  -1517. ]\n",
      " [-1971.  -1307. ]\n",
      " [-1971.  -1097. ]\n",
      " [-1971.   -887. ]\n",
      " [-1971.   -677. ]\n",
      " [-1971.   -467. ]\n",
      " [-1761.   -467. ]\n",
      " [-1761.   -677. ]\n",
      " [-1761.   -887. ]\n",
      " [-1761.  -1097. ]\n",
      " [-1761.  -1307. ]\n",
      " [-1761.  -1517. ]\n",
      " [-1761.  -1727. ]\n",
      " [-1761.  -1937. ]\n",
      " [ -999.9 -1446.3]\n",
      " [ -999.9 -1236.3]\n",
      " [ -999.9 -1026.3]\n",
      " [ -789.9 -1026.3]\n",
      " [ -789.9 -1236.3]\n",
      " [ -789.9 -1446.3]\n",
      " [ -579.9 -1446.3]\n",
      " [ -579.9 -1236.3]\n",
      " [ -579.9 -1026.3]]\n"
     ]
    }
   ],
   "source": [
    "import pandas\n",
    "\n",
    "all_positions = []\n",
    "for _fl in pos_files:\n",
    "    _data_frame = pandas.read_csv(_fl,header=None, names=['X','Y'])\n",
    "    for _x, _y in zip(_data_frame['X'], _data_frame['Y']):\n",
    "        all_positions.append([_x,_y])\n",
    "all_positions = np.round(np.array(all_positions), 2)\n",
    "print(all_positions)"
   ]
  },
  {
   "cell_type": "code",
   "execution_count": 42,
   "metadata": {
    "collapsed": true
   },
   "outputs": [],
   "source": [
    "data_folder = r'D:\\Shiwei\\20210529-P_Forebrain_MERFISH_CTP09_exp2'\n",
    "\n",
    "all_positions = np.loadtxt(os.path.join(data_folder, 'adjusted_translated_positions_all.txt'), delimiter=',')"
   ]
  },
  {
   "cell_type": "code",
   "execution_count": 43,
   "metadata": {
    "collapsed": false
   },
   "outputs": [
    {
     "data": {
      "text/plain": [
       "array([[-3746.7, -1786.2],\n",
       "       [-3746.7, -1576.2],\n",
       "       [-3746.7, -1366.2],\n",
       "       [-3746.7, -1156.2],\n",
       "       [-3746.7,  -946.2],\n",
       "       [-3746.7,  -736.2],\n",
       "       [-3746.7,  -526.2],\n",
       "       [-3746.7,  -316.2],\n",
       "       [-3746.7,  -106.2],\n",
       "       [-3536.7,  -106.2],\n",
       "       [-3536.7,  -316.2],\n",
       "       [-3536.7,  -526.2],\n",
       "       [-3536.7,  -736.2],\n",
       "       [-3536.7,  -946.2],\n",
       "       [-3536.7, -1156.2],\n",
       "       [-3536.7, -1366.2],\n",
       "       [-3536.7, -1576.2],\n",
       "       [-3536.7, -1786.2],\n",
       "       [-3326.7, -1786.2],\n",
       "       [-3326.7, -1576.2],\n",
       "       [-3326.7, -1366.2],\n",
       "       [-3326.7, -1156.2],\n",
       "       [-3326.7,  -946.2],\n",
       "       [-3326.7,  -736.2],\n",
       "       [-3326.7,  -526.2],\n",
       "       [-3326.7,  -316.2],\n",
       "       [-3326.7,  -106.2],\n",
       "       [-3116.7,  -106.2],\n",
       "       [-3116.7,  -316.2],\n",
       "       [-3116.7,  -526.2],\n",
       "       [-3116.7,  -736.2],\n",
       "       [-3116.7,  -946.2],\n",
       "       [-3116.7, -1156.2],\n",
       "       [-3116.7, -1366.2],\n",
       "       [-3116.7, -1576.2],\n",
       "       [-3116.7, -1786.2],\n",
       "       [-1968.4, -1933.1],\n",
       "       [-1968.4, -1723.1],\n",
       "       [-1968.4, -1513.1],\n",
       "       [-1968.4, -1303.1],\n",
       "       [-1968.4, -1093.1],\n",
       "       [-1968.4,  -883.1],\n",
       "       [-1968.4,  -673.1],\n",
       "       [-1968.4,  -463.1],\n",
       "       [-1758.4,  -463.1],\n",
       "       [-1758.4,  -673.1],\n",
       "       [-1758.4,  -883.1],\n",
       "       [-1758.4, -1093.1],\n",
       "       [-1758.4, -1303.1],\n",
       "       [-1758.4, -1513.1],\n",
       "       [-1758.4, -1723.1],\n",
       "       [-1758.4, -1933.1],\n",
       "       [ -997.3, -1442.4],\n",
       "       [ -997.3, -1232.4],\n",
       "       [ -997.3, -1022.4],\n",
       "       [ -787.3, -1022.4],\n",
       "       [ -787.3, -1232.4],\n",
       "       [ -787.3, -1442.4],\n",
       "       [ -577.3, -1442.4],\n",
       "       [ -577.3, -1232.4],\n",
       "       [ -577.3, -1022.4]])"
      ]
     },
     "execution_count": 43,
     "metadata": {},
     "output_type": "execute_result"
    }
   ],
   "source": [
    "all_positions"
   ]
  },
  {
   "cell_type": "code",
   "execution_count": 44,
   "metadata": {
    "collapsed": true
   },
   "outputs": [],
   "source": [
    "# write into a file\n",
    "\n",
    "all_pos_filename = os.path.join(data_folder, 'adjusted_positions_all.txt')\n",
    "\n",
    "with open(all_pos_filename, 'w') as _fp:\n",
    "    for position in all_positions:\n",
    "        #_fp.write(str(round(position[0],2))+\",\"+str(position[1])+os.linesep) # python2 works\n",
    "        _fp.write(str(round(position[0],2))+\",\"+str(position[1])+\"\\n\")"
   ]
  },
  {
   "cell_type": "code",
   "execution_count": 38,
   "metadata": {
    "collapsed": true
   },
   "outputs": [],
   "source": [
    "x= \" 999\""
   ]
  },
  {
   "cell_type": "code",
   "execution_count": 39,
   "metadata": {
    "collapsed": false
   },
   "outputs": [
    {
     "data": {
      "text/plain": [
       "999.0"
      ]
     },
     "execution_count": 39,
     "metadata": {},
     "output_type": "execute_result"
    }
   ],
   "source": [
    "float (x)"
   ]
  },
  {
   "cell_type": "code",
   "execution_count": null,
   "metadata": {
    "collapsed": true
   },
   "outputs": [],
   "source": []
  }
 ],
 "metadata": {
  "kernelspec": {
   "display_name": "Python 3",
   "language": "python",
   "name": "python3"
  },
  "language_info": {
   "codemirror_mode": {
    "name": "ipython",
    "version": 3
   },
   "file_extension": ".py",
   "mimetype": "text/x-python",
   "name": "python",
   "nbconvert_exporter": "python",
   "pygments_lexer": "ipython3",
   "version": "3.9.5"
  }
 },
 "nbformat": 4,
 "nbformat_minor": 1
}
