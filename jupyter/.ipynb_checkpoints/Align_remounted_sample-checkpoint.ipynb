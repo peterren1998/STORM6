{
 "cells": [
  {
   "cell_type": "code",
   "execution_count": 15,
   "metadata": {
    "collapsed": false
   },
   "outputs": [
    {
     "data": {
      "text/plain": [
       "(True, True)"
      ]
     },
     "execution_count": 15,
     "metadata": {},
     "output_type": "execute_result"
    }
   ],
   "source": [
    "import os\n",
    "\n",
    "old_folder = r'D:\\Shiwei\\20221023-hM1_hM1_Cx28_sample2\\Alignment'\n",
    "\n",
    "before_position_file = os.path.join(old_folder, '10x_positions_before.txt')\n",
    "\n",
    "new_folder = r'D:\\Shiwei\\20230406-hM_CTP14_from_Cx28_sample2\\Alignment'\n",
    "\n",
    "after_position_file = os.path.join(new_folder, '10x_positions_after.txt')\n",
    "\n",
    "os.path.isfile(before_position_file), os.path.isfile(after_position_file)"
   ]
  },
  {
   "cell_type": "markdown",
   "metadata": {},
   "source": [
    "# Calculate rotation matrix"
   ]
  },
  {
   "cell_type": "code",
   "execution_count": 16,
   "metadata": {
    "collapsed": true
   },
   "outputs": [],
   "source": [
    "import numpy as np\n",
    "import os\n",
    "# 1. alignment for manually picked points\n",
    "def align_manual_points(pos_file_before, pos_file_after,\n",
    "                        save=True, save_folder=None, save_filename='', verbose=True):\n",
    "    \"\"\"Function to align two manually picked position files, \n",
    "    they should follow exactly the same order and of same length.\n",
    "    Inputs:\n",
    "        pos_file_before: full filename for positions file before translation\n",
    "        pos_file_after: full filename for positions file after translation\n",
    "        save: whether save rotation and translation info, bool (default: True)\n",
    "        save_folder: where to save rotation and translation info, None or string (default: same folder as pos_file_before)\n",
    "        save_filename: filename specified to save rotation and translation points\n",
    "        verbose: say something! bool (default: True)\n",
    "    Outputs:\n",
    "        R: rotation for positions, 2x2 array\n",
    "        T: traslation of positions, array of 2\n",
    "    Here's example for how to translate points\n",
    "        translated_ps_before = np.dot(ps_before, R) + t\n",
    "    \"\"\"\n",
    "    # load position_before\n",
    "    if os.path.isfile(pos_file_before):\n",
    "        ps_before = np.loadtxt(pos_file_before, delimiter=',')\n",
    "\n",
    "    # load position_after\n",
    "    if os.path.isfile(pos_file_after):\n",
    "        ps_after = np.loadtxt(pos_file_after, delimiter=',')\n",
    "\n",
    "    # do SVD decomposition to get best fit for rigid-translation\n",
    "    c_before = np.mean(ps_before, axis=0)\n",
    "    c_after = np.mean(ps_after, axis=0)\n",
    "    H = np.dot((ps_before - c_before).T, (ps_after - c_after))\n",
    "    U, _, V = np.linalg.svd(H)  # do SVD\n",
    "    # calcluate rotation\n",
    "    R = np.dot(V, U.T).T\n",
    "    if np.linalg.det(R) < 0:\n",
    "        R[:, -1] = -1 * R[:, -1]\n",
    "    # calculate translation\n",
    "    t = - np.dot(c_before, R) + c_after\n",
    "    # here's example for how to translate points\n",
    "    # translated_ps_before = np.dot(ps_before, R) + t\n",
    "    # save\n",
    "    if save:\n",
    "        if save_folder is None:\n",
    "            save_folder = os.path.dirname(pos_file_before)\n",
    "        if not os.path.exists(save_folder):\n",
    "            os.makedirs(save_folder)\n",
    "        if len(save_filename) > 0:\n",
    "            save_filename += '_'\n",
    "        rotation_name = os.path.join(save_folder, save_filename+'rotation')\n",
    "        translation_name = os.path.join(\n",
    "            save_folder, save_filename+'translation')\n",
    "        np.save(rotation_name, R)\n",
    "        np.save(translation_name, t)\n",
    "\n",
    "    return R, t"
   ]
  },
  {
   "cell_type": "code",
   "execution_count": 17,
   "metadata": {
    "collapsed": false
   },
   "outputs": [
    {
     "data": {
      "text/plain": [
       "(array([[ 9.99999887e-01, -4.76303345e-04],\n",
       "        [ 4.76303345e-04,  9.99999887e-01]]),\n",
       " array([1701.61233752, -707.07542478]))"
      ]
     },
     "execution_count": 17,
     "metadata": {},
     "output_type": "execute_result"
    }
   ],
   "source": [
    "R, T = align_manual_points(before_position_file, after_position_file, save=False, save_folder=new_folder)\n",
    "R, T"
   ]
  },
  {
   "cell_type": "code",
   "execution_count": 18,
   "metadata": {
    "collapsed": false
   },
   "outputs": [
    {
     "data": {
      "text/plain": [
       "1.5712726301582611"
      ]
     },
     "execution_count": 18,
     "metadata": {},
     "output_type": "execute_result"
    }
   ],
   "source": [
    "np.arccos(R[0,1])"
   ]
  },
  {
   "cell_type": "markdown",
   "metadata": {},
   "source": [
    "# Translate 60x positions"
   ]
  },
  {
   "cell_type": "code",
   "execution_count": 19,
   "metadata": {
    "collapsed": false
   },
   "outputs": [],
   "source": [
    "old_positions = np.loadtxt(os.path.join(os.path.dirname(old_folder), 'positions_all.txt'), delimiter=',')"
   ]
  },
  {
   "cell_type": "code",
   "execution_count": 20,
   "metadata": {
    "collapsed": false
   },
   "outputs": [
    {
     "name": "stdout",
     "output_type": "stream",
     "text": [
      "[[-2991.31959013  -982.9401969 ]\n",
      " [-2991.41723231 -1187.94017365]\n",
      " [-2991.61251668 -1597.94012714]\n",
      " [-2991.71015887 -1802.94010388]\n",
      " [-2786.71018212 -1803.03774607]\n",
      " [-2786.61253994 -1598.03776932]\n",
      " [-2786.51489775 -1393.03779258]\n",
      " [-2786.41725557 -1188.03781583]\n",
      " [-2786.31961338  -983.03783908]\n",
      " [-2581.31963663  -983.13548127]\n",
      " [-2581.41727882 -1188.13545802]\n",
      " [-2581.51492101 -1393.13543476]\n",
      " [-2581.61256319 -1598.13541151]\n",
      " [-2581.71020538 -1803.13538826]\n",
      " [-2581.80784756 -2008.135365  ]\n",
      " [-2376.80787082 -2008.23300719]\n",
      " [-2376.71022863 -1803.23303044]\n",
      " [-2376.61258644 -1598.2330537 ]\n",
      " [-2376.51494426 -1393.23307695]\n",
      " [-2376.41730207 -1188.2331002 ]\n",
      " [-2376.31965989  -983.23312346]\n",
      " [-2171.22204096  -778.3307889 ]\n",
      " [-2171.31968314  -983.33076564]\n",
      " [-2171.41732533 -1188.33074239]\n",
      " [-2171.51496751 -1393.33071913]\n",
      " [-2171.6126097  -1598.33069588]\n",
      " [-2171.71025188 -1803.33067263]\n",
      " [-2171.80789407 -2008.33064937]\n",
      " [-1966.80791732 -2008.42829156]\n",
      " [-1966.71027514 -1803.42831481]\n",
      " [-1966.61263295 -1598.42833807]\n",
      " [-1966.51499077 -1393.42836132]\n",
      " [-1966.41734858 -1188.42838457]\n",
      " [-1966.31970639  -983.42840783]\n",
      " [-1966.22206421  -778.42843108]\n",
      " [-1761.22208746  -778.52607327]\n",
      " [-1761.31972965  -983.52605001]\n",
      " [-1761.41737183 -1188.52602676]\n",
      " [-1761.51501402 -1393.52600351]\n",
      " [-1761.61265621 -1598.52598025]\n",
      " [-1761.71029839 -1803.525957  ]\n",
      " [-1761.80794058 -2008.52593375]\n",
      " [-1556.80796383 -2008.62357593]\n",
      " [-1556.71032165 -1803.62359918]\n",
      " [-1556.61267946 -1598.62362244]\n",
      " [-1556.51503727 -1393.62364569]\n",
      " [-1556.41739509 -1188.62366895]\n",
      " [-1556.3197529   -983.6236922 ]\n",
      " [-1556.22211072  -778.62371545]\n",
      " [-2982.66817527  1434.45595661]\n",
      " [-2982.76581746  1229.45597987]\n",
      " [-2982.86345964  1024.45600312]\n",
      " [-2982.96110183   819.45602638]\n",
      " [-2983.05874401   614.45604963]\n",
      " [-2778.05876727   614.35840744]\n",
      " [-2777.96112508   819.35838419]\n",
      " [-2777.8634829   1024.35836094]\n",
      " [-2777.76584071  1229.35833768]\n",
      " [-2777.66819852  1434.35831443]\n",
      " [-2572.57057959  1639.26064899]\n",
      " [-2572.66822178  1434.26067224]\n",
      " [-2572.76586396  1229.2606955 ]\n",
      " [-2572.86350615  1024.26071875]\n",
      " [-2572.96114833   819.260742  ]\n",
      " [-2573.05879052   614.26076526]\n",
      " [-2573.15643271   409.26078851]\n",
      " [-2368.15645596   409.16314633]\n",
      " [-2368.05881377   614.16312307]\n",
      " [-2367.96117159   819.16309982]\n",
      " [-2367.8635294   1024.16307656]\n",
      " [-2367.76588722  1229.16305331]\n",
      " [-2367.66824503  1434.16303006]\n",
      " [-2367.57060285  1639.1630068 ]\n",
      " [-2162.5706261   1639.06536462]\n",
      " [-2162.66826828  1434.06538787]\n",
      " [-2162.76591047  1229.06541112]\n",
      " [-2162.86355266  1024.06543438]\n",
      " [-2162.96119484   819.06545763]\n",
      " [-2163.05883703   614.06548089]\n",
      " [-2163.15647921   409.06550414]\n",
      " [-1958.15650247   408.96786195]\n",
      " [-1958.05886028   613.9678387 ]\n",
      " [-1957.9612181    818.96781545]\n",
      " [-1957.86357591  1023.96779219]\n",
      " [-1957.76593372  1228.96776894]\n",
      " [-1957.66829154  1433.96774569]\n",
      " [-1957.57064935  1638.96772243]\n",
      " [-1752.47303042  1843.87005699]\n",
      " [-1752.57067261  1638.87008025]\n",
      " [-1752.66831479  1433.8701035 ]\n",
      " [-1752.76595698  1228.87012675]\n",
      " [-1752.86359916  1023.87015001]\n",
      " [-1752.96124135   818.87017326]\n",
      " [-1753.05888354   613.87019651]\n",
      " [-1753.15652572   408.87021977]\n",
      " [-1548.15654897   408.77257758]\n",
      " [-1548.05890679   613.77255433]\n",
      " [-1547.9612646    818.77253107]\n",
      " [-1547.86362242  1023.77250782]\n",
      " [-1547.76598023  1228.77248457]\n",
      " [-1547.66833805  1433.77246131]\n",
      " [-1547.57069586  1638.77243806]\n",
      " [-1343.15657223   408.6749354 ]\n",
      " [ 1392.61696839   352.47187093]\n",
      " [ 1392.71461058   557.47184768]\n",
      " [ 1392.81225276   762.47182442]\n",
      " [ 1598.10515606  1377.37411248]\n",
      " [ 1598.00751388  1172.37413573]\n",
      " [ 1597.90987169   967.37415898]\n",
      " [ 1597.81222951   762.37418224]\n",
      " [ 1597.71458732   557.37420549]\n",
      " [ 1597.61694514   352.37422875]\n",
      " [ 1802.61692188   352.27658656]\n",
      " [ 1802.71456407   557.27656331]\n",
      " [ 1802.81220625   762.27654005]\n",
      " [ 1802.90984844   967.2765168 ]\n",
      " [ 1803.00749063  1172.27649355]\n",
      " [ 1803.10513281  1377.27647029]\n",
      " [ 1803.202775    1582.27644704]\n",
      " [ 2008.20275174  1582.17880485]\n",
      " [ 2008.10510956  1377.17882811]\n",
      " [ 2008.00746737  1172.17885136]\n",
      " [ 2007.90982519   967.17887461]\n",
      " [ 2007.812183     762.17889787]\n",
      " [ 2007.71454081   557.17892112]\n",
      " [ 2007.61689863   352.17894437]\n",
      " [ 2212.61687537   352.08130219]\n",
      " [ 2212.71451756   557.08127893]\n",
      " [ 2212.81215975   762.08125568]\n",
      " [ 2212.90980193   967.08123243]\n",
      " [ 2213.00744412  1172.08120917]\n",
      " [ 2213.1050863   1377.08118592]\n",
      " [ 2213.20272849  1582.08116267]\n",
      " [ 2418.20270524  1581.98352048]\n",
      " [ 2418.10506305  1376.98354373]\n",
      " [ 2418.00742086  1171.98356699]\n",
      " [ 2417.90977868   966.98359024]\n",
      " [ 2417.81213649   761.9836135 ]\n",
      " [ 2417.71449431   556.98363675]\n",
      " [ 2417.61685212   351.98366   ]\n",
      " [ 2622.61682887   351.88601782]\n",
      " [ 2622.71447105   556.88599456]\n",
      " [ 2622.81211324   761.88597131]\n",
      " [ 2622.90975542   966.88594806]\n",
      " [ 2623.00739761  1171.8859248 ]\n",
      " [ 2623.1050398   1376.88590155]\n",
      " [ 2623.20268198  1581.88587829]\n",
      " [ 2828.20265873  1581.78823611]\n",
      " [ 2828.10501654  1376.78825936]\n",
      " [ 2828.00737436  1171.78828262]\n",
      " [ 2827.90973217   966.78830587]\n",
      " [ 2827.81208999   761.78832912]\n",
      " [ 2827.7144478    556.78835238]\n",
      " [ 2827.61680561   351.78837563]\n",
      " [ 3032.90970892   966.69066368]\n",
      " [ 3033.0073511   1171.69064043]\n",
      " [ 3033.10499329  1376.69061718]\n",
      " [ 3033.20263548  1581.69059392]\n",
      " [ 1178.05998002 -1446.72613894]\n",
      " [ 1178.15762221 -1241.7261622 ]\n",
      " [ 1178.25526439 -1036.72618545]\n",
      " [ 1178.35290658  -831.72620871]\n",
      " [ 1383.45052551  -626.82387414]\n",
      " [ 1383.35288332  -831.82385089]\n",
      " [ 1383.25524114 -1036.82382764]\n",
      " [ 1383.15759895 -1241.82380438]\n",
      " [ 1383.05995677 -1446.82378113]\n",
      " [ 1382.96231458 -1651.82375788]\n",
      " [ 1382.8646724  -1856.82373462]\n",
      " [ 1382.76703021 -2061.82371137]\n",
      " [ 1382.66938802 -2266.82368812]\n",
      " [ 1587.66936477 -2266.9213303 ]\n",
      " [ 1587.76700696 -2061.92135356]\n",
      " [ 1587.86464914 -1856.92137681]\n",
      " [ 1587.96229133 -1651.92140006]\n",
      " [ 1588.05993351 -1446.92142332]\n",
      " [ 1588.1575757  -1241.92144657]\n",
      " [ 1588.25521789 -1036.92146982]\n",
      " [ 1588.35286007  -831.92149308]\n",
      " [ 1793.35283682  -832.01913526]\n",
      " [ 1793.25519463 -1037.01911201]\n",
      " [ 1793.15755245 -1242.01908876]\n",
      " [ 1793.05991026 -1447.0190655 ]\n",
      " [ 1792.96226807 -1652.01904225]\n",
      " [ 1792.86462589 -1857.01901899]\n",
      " [ 1792.7669837  -2062.01899574]\n",
      " [ 1792.66934152 -2267.01897249]\n",
      " [ 1997.76696045 -2062.11663793]\n",
      " [ 1997.86460263 -1857.11666118]\n",
      " [ 1997.96224482 -1652.11668443]\n",
      " [ 1998.05988701 -1447.11670769]\n",
      " [ 1998.15752919 -1242.11673094]\n",
      " [ 1998.25517138 -1037.1167542 ]\n",
      " [ 1998.35281356  -832.11677745]\n",
      " [ 2203.35279031  -832.21441963]\n",
      " [ 2203.25514812 -1037.21439638]\n",
      " [ 2203.15750594 -1242.21437313]\n",
      " [ 2203.05986375 -1447.21434987]\n",
      " [ 2202.96222157 -1652.21432662]\n",
      " [ 2202.86457938 -1857.21430337]\n",
      " [ 2202.7669372  -2062.21428011]\n",
      " [ 2407.76691394 -2062.3119223 ]\n",
      " [ 2407.86455613 -1857.31194555]\n",
      " [ 2407.96219831 -1652.31196881]\n",
      " [ 2408.0598405  -1447.31199206]\n",
      " [ 2408.15748268 -1242.31201531]\n",
      " [ 2408.25512487 -1037.31203857]\n",
      " [ 2408.35276706  -832.31206182]\n",
      " [ 2613.3527438   -832.40970401]\n",
      " [ 2613.25510162 -1037.40968075]\n",
      " [ 2613.15745943 -1242.4096575 ]\n",
      " [ 2613.05981725 -1447.40963425]\n",
      " [ 2612.96217506 -1652.40961099]\n",
      " [ 2612.86453287 -1857.40958774]\n",
      " [ 2612.76689069 -2062.40956448]\n",
      " [ 2817.76686743 -2062.50720667]\n",
      " [ 2817.86450962 -1857.50722992]\n",
      " [ 2817.96215181 -1652.50725318]\n",
      " [ 2818.05979399 -1447.50727643]\n",
      " [ 2818.15743618 -1242.50729968]\n",
      " [ 2818.25507836 -1037.50732294]\n",
      " [ 2818.35272055  -832.50734619]\n",
      " [ 3023.3526973   -832.60498838]\n",
      " [ 3023.25505511 -1037.60496512]\n",
      " [  184.87751519   -24.00292143]]\n"
     ]
    }
   ],
   "source": [
    "new_positions = np.dot(old_positions, R) + T\n",
    "print(new_positions)"
   ]
  },
  {
   "cell_type": "code",
   "execution_count": 21,
   "metadata": {
    "collapsed": false
   },
   "outputs": [
    {
     "name": "stdout",
     "output_type": "stream",
     "text": [
      "D:\\Cosmos\\20230316_Mb_1103_DNA\\Alignment\\translated_positions_all.txt\n"
     ]
    }
   ],
   "source": [
    "save_filename = os.path.join(new_folder, 'translated_positions_all.txt')\n",
    "print(save_filename)\n",
    "np.savetxt(save_filename, new_positions, fmt='%.2f', delimiter=',')"
   ]
  },
  {
   "cell_type": "markdown",
   "metadata": {},
   "source": [
    "# Manual adjust positions"
   ]
  },
  {
   "cell_type": "code",
   "execution_count": 22,
   "metadata": {
    "collapsed": false
   },
   "outputs": [
    {
     "name": "stdout",
     "output_type": "stream",
     "text": [
      "D:\\Cosmos\\20221103_Mb_withDMG\\60x_positions_before.txt\n",
      "[[-6658.74  -300.69]\n",
      " [-6614.19  1301.77]\n",
      " [ 3301.75   801.49]\n",
      " [ 2984.49  -726.84]]\n"
     ]
    }
   ],
   "source": [
    "manual_positions_before_file = os.path.join(os.path.dirname(old_folder), '60x_positions_before.txt')\n",
    "print(manual_positions_before_file)\n",
    "manual_positions = np.loadtxt(manual_positions_before_file, delimiter=',')\n",
    "print(manual_positions)"
   ]
  },
  {
   "cell_type": "raw",
   "metadata": {
    "collapsed": false
   },
   "source": [
    "manual_positions = [\n",
    "    [-3328.25,1322.05],\n",
    "    [-4186.60,2452.05],\n",
    "    [5472.40,1536.15],\n",
    "    [5928.00,-212.40],\n",
    "]\n",
    "manual_positions = np.array(manual_positions)\n",
    "print(\"original manual positions:\")\n",
    "print(manual_positions)"
   ]
  },
  {
   "cell_type": "code",
   "execution_count": 23,
   "metadata": {
    "collapsed": false
   },
   "outputs": [
    {
     "name": "stdout",
     "output_type": "stream",
     "text": [
      "translated manual positions:\n",
      "[[-4957.3 -1004.6]\n",
      " [-4912.    597.8]\n",
      " [ 5003.7    92.8]\n",
      " [ 4685.8 -1435.3]]\n"
     ]
    }
   ],
   "source": [
    "translated_manual_positions = np.dot(manual_positions, R) + T\n",
    "print('translated manual positions:')\n",
    "print(np.round(translated_manual_positions, 1))"
   ]
  },
  {
   "cell_type": "code",
   "execution_count": 24,
   "metadata": {
    "collapsed": false,
    "scrolled": true
   },
   "outputs": [
    {
     "data": {
      "text/plain": [
       "array([[ 36.47012682,  -1.40618946],\n",
       "       [ 37.20687481,   2.65521162],\n",
       "       [ 35.95628464, -23.84184973],\n",
       "       [ 31.54419734, -19.66313509]])"
      ]
     },
     "execution_count": 24,
     "metadata": {},
     "output_type": "execute_result"
    }
   ],
   "source": [
    "manual_real_positions = [\n",
    "    [-4920.8, -1006],\n",
    "    [-4874.75, 600.5],\n",
    "    [5039.7, 69],\n",
    "    [4717.3, -1455],\n",
    "]\n",
    "manual_shifts = np.array(manual_real_positions) - translated_manual_positions[:len(manual_real_positions)]\n",
    "manual_shifts"
   ]
  },
  {
   "cell_type": "code",
   "execution_count": 25,
   "metadata": {
    "collapsed": false
   },
   "outputs": [
    {
     "data": {
      "text/plain": [
       "array([ 35.2943709 , -10.56399067])"
      ]
     },
     "execution_count": 25,
     "metadata": {},
     "output_type": "execute_result"
    }
   ],
   "source": [
    "manual_shift = np.mean(manual_shifts, axis=0)\n",
    "manual_shift"
   ]
  },
  {
   "cell_type": "code",
   "execution_count": 26,
   "metadata": {
    "collapsed": true
   },
   "outputs": [],
   "source": [
    "adjusted_new_positions = new_positions + manual_shift"
   ]
  },
  {
   "cell_type": "code",
   "execution_count": 27,
   "metadata": {
    "collapsed": false
   },
   "outputs": [
    {
     "data": {
      "text/plain": [
       "(array([-2956.02521922,  -993.50418756]), array([-4692.8,  -278.1]))"
      ]
     },
     "execution_count": 27,
     "metadata": {},
     "output_type": "execute_result"
    }
   ],
   "source": [
    "adjusted_new_positions[0], old_positions[0]"
   ]
  },
  {
   "cell_type": "code",
   "execution_count": 28,
   "metadata": {
    "collapsed": false
   },
   "outputs": [
    {
     "name": "stdout",
     "output_type": "stream",
     "text": [
      "D:\\Cosmos\\20230316_Mb_1103_DNA\\Alignment\\adjusted_translated_positions_all.txt\n"
     ]
    }
   ],
   "source": [
    "adj_save_filename = os.path.join(new_folder, 'adjusted_translated_positions_all.txt')\n",
    "print(adj_save_filename)\n",
    "np.savetxt(adj_save_filename, adjusted_new_positions, fmt='%.2f', delimiter=',')"
   ]
  },
  {
   "cell_type": "code",
   "execution_count": null,
   "metadata": {
    "collapsed": true
   },
   "outputs": [],
   "source": []
  }
 ],
 "metadata": {
  "kernelspec": {
   "display_name": "Python 3",
   "language": "python",
   "name": "python3"
  },
  "language_info": {
   "codemirror_mode": {
    "name": "ipython",
    "version": 3
   },
   "file_extension": ".py",
   "mimetype": "text/x-python",
   "name": "python",
   "nbconvert_exporter": "python",
   "pygments_lexer": "ipython3",
   "version": "3.9.5"
  }
 },
 "nbformat": 4,
 "nbformat_minor": 0
}
