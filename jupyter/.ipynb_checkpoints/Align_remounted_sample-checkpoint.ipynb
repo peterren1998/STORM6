{
 "cells": [
  {
   "cell_type": "code",
   "execution_count": 29,
   "metadata": {
    "collapsed": false
   },
   "outputs": [
    {
     "data": {
      "text/plain": [
       "(True, True)"
      ]
     },
     "execution_count": 29,
     "metadata": {},
     "output_type": "execute_result"
    }
   ],
   "source": [
    "import os\n",
    "\n",
    "old_folder = r'D:\\Cosmos_HighRes\\20241130_CTP11_SABER_test_HCl\\Alignment'\n",
    "\n",
    "before_position_file = os.path.join(old_folder, '10x_positions_before.txt')\n",
    "\n",
    "new_folder = r'D:\\Cosmos_HighRes\\20241130_CTP11_SABER_test_HCl\\Alignment'\n",
    "\n",
    "after_position_file = os.path.join(new_folder, '10x_positions_after.txt')\n",
    "\n",
    "os.path.isfile(before_position_file), os.path.isfile(after_position_file)\n",
    "\n"
   ]
  },
  {
   "cell_type": "markdown",
   "metadata": {},
   "source": [
    "# Calculate rotation matrix"
   ]
  },
  {
   "cell_type": "code",
   "execution_count": 30,
   "metadata": {
    "collapsed": true
   },
   "outputs": [],
   "source": [
    "import numpy as np\n",
    "import os\n",
    "# 1. alignment for manually picked points\n",
    "def align_manual_points(pos_file_before, pos_file_after,\n",
    "                        save=True, save_folder=None, save_filename='', verbose=True):\n",
    "    \"\"\"Function to align two manually picked position files, \n",
    "    they should follow exactly the same order and of same length.\n",
    "    Inputs:\n",
    "        pos_file_before: full filename for positions file before translation\n",
    "        pos_file_after: full filename for positions file after translation\n",
    "        save: whether save rotation and translation info, bool (default: True)\n",
    "        save_folder: where to save rotation and translation info, None or string (default: same folder as pos_file_before)\n",
    "        save_filename: filename specified to save rotation and translation points\n",
    "        verbose: say something! bool (default: True)\n",
    "    Outputs:\n",
    "        R: rotation for positions, 2x2 array\n",
    "        T: traslation of positions, array of 2\n",
    "    Here's example for how to translate points\n",
    "        translated_ps_before = np.dot(ps_before, R) + t\n",
    "    \"\"\"\n",
    "    # load position_before\n",
    "    if os.path.isfile(pos_file_before):\n",
    "        ps_before = np.loadtxt(pos_file_before, delimiter=',')\n",
    "\n",
    "    # load position_after\n",
    "    if os.path.isfile(pos_file_after):\n",
    "        ps_after = np.loadtxt(pos_file_after, delimiter=',')\n",
    "\n",
    "    # do SVD decomposition to get best fit for rigid-translation\n",
    "    c_before = np.mean(ps_before, axis=0)\n",
    "    c_after = np.mean(ps_after, axis=0)\n",
    "    H = np.dot((ps_before - c_before).T, (ps_after - c_after))\n",
    "    U, _, V = np.linalg.svd(H)  # do SVD\n",
    "    # calcluate rotation\n",
    "    R = np.dot(V, U.T).T\n",
    "    if np.linalg.det(R) < 0:\n",
    "        R[:, -1] = -1 * R[:, -1]\n",
    "    # calculate translation\n",
    "    t = - np.dot(c_before, R) + c_after\n",
    "    # here's example for how to translate points\n",
    "    # translated_ps_before = np.dot(ps_before, R) + t\n",
    "    # save\n",
    "    if save:\n",
    "        if save_folder is None:\n",
    "            save_folder = os.path.dirname(pos_file_before)\n",
    "        if not os.path.exists(save_folder):\n",
    "            os.makedirs(save_folder)\n",
    "        if len(save_filename) > 0:\n",
    "            save_filename += '_'\n",
    "        rotation_name = os.path.join(save_folder, save_filename+'rotation')\n",
    "        translation_name = os.path.join(\n",
    "            save_folder, save_filename+'translation')\n",
    "        np.save(rotation_name, R)\n",
    "        np.save(translation_name, t)\n",
    "\n",
    "    return R, t"
   ]
  },
  {
   "cell_type": "code",
   "execution_count": 31,
   "metadata": {
    "collapsed": false
   },
   "outputs": [
    {
     "data": {
      "text/plain": [
       "(array([[ 0.99994334, -0.01064494],\n",
       "        [ 0.01064494,  0.99994334]]),\n",
       " array([297.41474728, -51.68798819]))"
      ]
     },
     "execution_count": 31,
     "metadata": {},
     "output_type": "execute_result"
    }
   ],
   "source": [
    "R, T = align_manual_points(before_position_file, after_position_file, save=False, save_folder=new_folder)\n",
    "R, T"
   ]
  },
  {
   "cell_type": "code",
   "execution_count": 32,
   "metadata": {
    "collapsed": false
   },
   "outputs": [
    {
     "data": {
      "text/plain": [
       "1.581441465620694"
      ]
     },
     "execution_count": 32,
     "metadata": {},
     "output_type": "execute_result"
    }
   ],
   "source": [
    "np.arccos(R[0,1])"
   ]
  },
  {
   "cell_type": "markdown",
   "metadata": {},
   "source": [
    "# Translate 60x positions"
   ]
  },
  {
   "cell_type": "code",
   "execution_count": 33,
   "metadata": {
    "collapsed": false
   },
   "outputs": [],
   "source": [
    "old_positions = np.loadtxt(os.path.join(os.path.dirname(old_folder), 'positions_all.txt'), delimiter=',')"
   ]
  },
  {
   "cell_type": "code",
   "execution_count": 34,
   "metadata": {
    "collapsed": false
   },
   "outputs": [
    {
     "name": "stdout",
     "output_type": "stream",
     "text": [
      "[[ 607.21287145 1815.92004677]\n",
      " [ 609.39508369 2020.90843168]\n",
      " [ 611.57729593 2225.8968166 ]\n",
      " [ 613.75950818 2430.88520151]\n",
      " [ 615.94172042 2635.87358643]\n",
      " [ 618.12393267 2840.86197134]\n",
      " [ 825.29452983 3043.66814401]\n",
      " [ 823.11231758 2838.6797591 ]\n",
      " [ 820.93010534 2633.69137418]\n",
      " [ 818.74789309 2428.70298927]\n",
      " [ 816.56568085 2223.71460435]\n",
      " [ 814.3834686  2018.72621944]\n",
      " [ 812.20125636 1813.73783453]\n",
      " [1017.18964127 1811.55562228]\n",
      " [1019.37185352 2016.5440072 ]\n",
      " [1021.55406576 2221.53239211]\n",
      " [1023.73627801 2426.52077702]\n",
      " [1025.91849025 2631.50916194]\n",
      " [1028.1007025  2836.49754685]\n",
      " [1030.28291474 3041.48593177]\n",
      " [1235.27129965 3039.30371952]\n",
      " [1233.08908741 2834.31533461]\n",
      " [1230.90687517 2629.32694969]\n",
      " [1228.72466292 2424.33856478]\n",
      " [1226.54245068 2219.35017987]\n",
      " [1224.36023843 2014.36179495]\n",
      " [1222.17802619 1809.37341004]\n",
      " [1427.1664111  1807.19119779]\n",
      " [1429.34862335 2012.17958271]\n",
      " [1431.53083559 2217.16796762]\n",
      " [1433.71304784 2422.15635254]\n",
      " [1435.89526008 2627.14473745]\n",
      " [1438.07747232 2832.13312236]\n",
      " [1440.25968457 3037.12150728]\n",
      " [1640.88364499 2624.96252521]]\n"
     ]
    }
   ],
   "source": [
    "new_positions = np.dot(old_positions, R) + T\n",
    "print(new_positions)"
   ]
  },
  {
   "cell_type": "code",
   "execution_count": 35,
   "metadata": {
    "collapsed": false
   },
   "outputs": [
    {
     "name": "stdout",
     "output_type": "stream",
     "text": [
      "D:\\Cosmos_HighRes\\20241130_CTP11_SABER_test_HCl\\Alignment\\translated_positions_all.txt\n"
     ]
    }
   ],
   "source": [
    "save_filename = os.path.join(new_folder, 'translated_positions_all.txt')\n",
    "print(save_filename)\n",
    "np.savetxt(save_filename, new_positions, fmt='%.2f', delimiter=',')"
   ]
  },
  {
   "cell_type": "markdown",
   "metadata": {},
   "source": [
    "# Manual adjust positions"
   ]
  },
  {
   "cell_type": "code",
   "execution_count": 36,
   "metadata": {
    "collapsed": false
   },
   "outputs": [
    {
     "name": "stdout",
     "output_type": "stream",
     "text": [
      "D:\\Cosmos_HighRes\\20241130_CTP11_SABER_test_HCl\\60x_positions_before.txt\n",
      "[[-315.78 1347.73]\n",
      " [1927.18 3611.42]\n",
      " [1631.78  813.02]]\n"
     ]
    }
   ],
   "source": [
    "manual_positions_before_file = os.path.join(os.path.dirname(old_folder), '60x_positions_before.txt')\n",
    "print(manual_positions_before_file)\n",
    "manual_positions = np.loadtxt(manual_positions_before_file, delimiter=',')\n",
    "print(manual_positions)"
   ]
  },
  {
   "cell_type": "raw",
   "metadata": {
    "collapsed": false
   },
   "source": [
    "manual_positions = [\n",
    "    [-3328.25,1322.05],\n",
    "    [-4186.60,2452.05],\n",
    "    [5472.40,1536.15],\n",
    "    [5928.00,-212.40],\n",
    "]\n",
    "manual_positions = np.array(manual_positions)\n",
    "print(\"original manual positions:\")\n",
    "print(manual_positions)"
   ]
  },
  {
   "cell_type": "code",
   "execution_count": 37,
   "metadata": {
    "collapsed": false
   },
   "outputs": [
    {
     "name": "stdout",
     "output_type": "stream",
     "text": [
      "translated manual positions:\n",
      "[[  -4.  1299.3]\n",
      " [2262.9 3539. ]\n",
      " [1937.8  743.9]]\n"
     ]
    }
   ],
   "source": [
    "translated_manual_positions = np.dot(manual_positions, R) + T\n",
    "print('translated manual positions:')\n",
    "print(np.round(translated_manual_positions, 1))"
   ]
  },
  {
   "cell_type": "code",
   "execution_count": 38,
   "metadata": {
    "collapsed": false,
    "scrolled": true
   },
   "outputs": [
    {
     "data": {
      "text/plain": [
       "array([[12.50085896,  2.67289072],\n",
       "       [13.07110353, -1.01268134],\n",
       "       [16.24316036,  1.08424962]])"
      ]
     },
     "execution_count": 38,
     "metadata": {},
     "output_type": "execute_result"
    }
   ],
   "source": [
    "manual_real_positions = [\n",
    "    [8.5, 1302],\n",
    "    [2276.0, 3538],\n",
    "    [1954, 745],\n",
    "    #[5545.0, -763],\n",
    "]\n",
    "manual_shifts = np.array(manual_real_positions) - translated_manual_positions[:len(manual_real_positions)]\n",
    "manual_shifts"
   ]
  },
  {
   "cell_type": "code",
   "execution_count": 39,
   "metadata": {
    "collapsed": false
   },
   "outputs": [
    {
     "data": {
      "text/plain": [
       "array([13.93837428,  0.91481967])"
      ]
     },
     "execution_count": 39,
     "metadata": {},
     "output_type": "execute_result"
    }
   ],
   "source": [
    "manual_shift = np.mean(manual_shifts, axis=0)\n",
    "manual_shift"
   ]
  },
  {
   "cell_type": "code",
   "execution_count": 40,
   "metadata": {
    "collapsed": true
   },
   "outputs": [],
   "source": [
    "adjusted_new_positions = new_positions + manual_shift"
   ]
  },
  {
   "cell_type": "code",
   "execution_count": 41,
   "metadata": {
    "collapsed": false
   },
   "outputs": [
    {
     "data": {
      "text/plain": [
       "(array([ 621.15124573, 1816.83486644]), array([ 289.9, 1870.8]))"
      ]
     },
     "execution_count": 41,
     "metadata": {},
     "output_type": "execute_result"
    }
   ],
   "source": [
    "adjusted_new_positions[0], old_positions[0]"
   ]
  },
  {
   "cell_type": "code",
   "execution_count": 42,
   "metadata": {
    "collapsed": false
   },
   "outputs": [
    {
     "name": "stdout",
     "output_type": "stream",
     "text": [
      "D:\\Cosmos_HighRes\\20241130_CTP11_SABER_test_HCl\\Alignment\\adjusted_translated_positions_all.txt\n"
     ]
    }
   ],
   "source": [
    "adj_save_filename = os.path.join(new_folder, 'adjusted_translated_positions_all.txt')\n",
    "print(adj_save_filename)\n",
    "np.savetxt(adj_save_filename, adjusted_new_positions, fmt='%.2f', delimiter=',')"
   ]
  },
  {
   "cell_type": "code",
   "execution_count": null,
   "metadata": {
    "collapsed": true
   },
   "outputs": [],
   "source": []
  }
 ],
 "metadata": {
  "kernelspec": {
   "display_name": "Python 3",
   "language": "python",
   "name": "python3"
  },
  "language_info": {
   "codemirror_mode": {
    "name": "ipython",
    "version": 3
   },
   "file_extension": ".py",
   "mimetype": "text/x-python",
   "name": "python",
   "nbconvert_exporter": "python",
   "pygments_lexer": "ipython3",
   "version": "3.9.5"
  }
 },
 "nbformat": 4,
 "nbformat_minor": 0
}
