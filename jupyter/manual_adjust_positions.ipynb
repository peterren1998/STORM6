{
 "cells": [
  {
   "cell_type": "code",
   "execution_count": 1,
   "metadata": {
    "collapsed": true
   },
   "outputs": [],
   "source": [
    "import numpy as np\n",
    "import os,glob,sys"
   ]
  },
  {
   "cell_type": "code",
   "execution_count": 2,
   "metadata": {
    "collapsed": true
   },
   "outputs": [],
   "source": [
    "data_folder = r'D:\\Pu\\20210729-Thymus_CTP10-Aire_DNA'\n",
    "old_positions = np.loadtxt(os.path.join(data_folder, 'positions_all.txt'), delimiter=',')"
   ]
  },
  {
   "cell_type": "code",
   "execution_count": 6,
   "metadata": {
    "collapsed": false,
    "scrolled": true
   },
   "outputs": [
    {
     "name": "stdout",
     "output_type": "stream",
     "text": [
      "[[-5025.  1330.]\n",
      " [-4815.  1330.]\n",
      " [-4815.  1120.]\n",
      " [-4815.   910.]\n",
      " [-4605.   490.]\n",
      " [-4605.   700.]\n",
      " [-4605.   910.]\n",
      " [-4605.  1120.]\n",
      " [-4395.  1120.]\n",
      " [-4395.   910.]\n",
      " [-4395.   700.]\n",
      " [-4395.   490.]\n",
      " [-4185.   490.]\n",
      " [-4185.   700.]\n",
      " [-4185.   910.]\n",
      " [-3975.   910.]\n",
      " [-3975.   700.]\n",
      " [  375.  -450.]\n",
      " [  375.  -240.]\n",
      " [  375.   -30.]\n",
      " [  375.   180.]\n",
      " [  375.   390.]\n",
      " [  375.   600.]\n",
      " [  375.   810.]\n",
      " [  585.   810.]\n",
      " [  585.   600.]\n",
      " [  585.   390.]\n",
      " [  585.   180.]\n",
      " [  585.   -30.]\n",
      " [  585.  -240.]\n",
      " [  585.  -450.]\n",
      " [  585.  -660.]\n",
      " [  585.  -870.]\n",
      " [  795.  -870.]\n",
      " [  795.  -660.]\n",
      " [  795.  -450.]\n",
      " [  795.  -240.]\n",
      " [  795.   -30.]\n",
      " [  795.   180.]\n",
      " [  795.   390.]\n",
      " [  795.   600.]\n",
      " [  795.   810.]\n",
      " [ 1005.   810.]\n",
      " [ 1005.   600.]\n",
      " [ 1005.   390.]\n",
      " [ 1005.   180.]\n",
      " [ 1005.   -30.]\n",
      " [ 1005.  -240.]\n",
      " [ 1005.  -450.]\n",
      " [ 1005.  -660.]\n",
      " [ 1005.  -870.]\n",
      " [ 2530.  5480.]\n",
      " [ 2530.  5690.]\n",
      " [ 2530.  5900.]\n",
      " [ 2530.  6110.]\n",
      " [ 2740.  6320.]\n",
      " [ 2740.  6110.]\n",
      " [ 2740.  5900.]\n",
      " [ 2740.  5690.]\n",
      " [ 2740.  5480.]\n",
      " [ 2950.  5480.]\n",
      " [ 2950.  5690.]\n",
      " [ 2950.  5900.]\n",
      " [ 2950.  6110.]\n",
      " [ 2950.  6320.]\n",
      " [ 3160.  6320.]\n",
      " [ 3160.  6110.]\n",
      " [ 3160.  5900.]\n",
      " [ 3160.  5690.]\n",
      " [ 3370.  5690.]\n",
      " [ 3370.  5900.]\n",
      " [ 3370.  6110.]\n",
      " [ 3370.  6320.]]\n"
     ]
    }
   ],
   "source": [
    "print(old_positions)"
   ]
  },
  {
   "cell_type": "code",
   "execution_count": 7,
   "metadata": {
    "collapsed": false
   },
   "outputs": [],
   "source": [
    "manual_shift = np.array([-14.8, -14.4])\n",
    "adjusted_positions = old_positions + manual_shift"
   ]
  },
  {
   "cell_type": "code",
   "execution_count": 8,
   "metadata": {
    "collapsed": false
   },
   "outputs": [
    {
     "name": "stdout",
     "output_type": "stream",
     "text": [
      "D:\\Pu\\20210729-Thymus_CTP10-Aire_DNA\\adjusted_positions_all.txt\n"
     ]
    }
   ],
   "source": [
    "adj_save_filename = os.path.join(data_folder, 'adjusted_positions_all.txt')\n",
    "print(adj_save_filename)\n",
    "np.savetxt(adj_save_filename, adjusted_positions, fmt='%.2f', delimiter=',')"
   ]
  },
  {
   "cell_type": "code",
   "execution_count": null,
   "metadata": {
    "collapsed": true
   },
   "outputs": [],
   "source": []
  }
 ],
 "metadata": {
  "kernelspec": {
   "display_name": "Python 3",
   "language": "python",
   "name": "python3"
  },
  "language_info": {
   "codemirror_mode": {
    "name": "ipython",
    "version": 3
   },
   "file_extension": ".py",
   "mimetype": "text/x-python",
   "name": "python",
   "nbconvert_exporter": "python",
   "pygments_lexer": "ipython3",
   "version": "3.9.5"
  }
 },
 "nbformat": 4,
 "nbformat_minor": 0
}
