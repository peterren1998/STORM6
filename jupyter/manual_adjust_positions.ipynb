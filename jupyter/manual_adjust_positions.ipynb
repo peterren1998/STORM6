{
 "cells": [
  {
   "cell_type": "code",
   "execution_count": 3,
   "metadata": {
    "collapsed": true
   },
   "outputs": [],
   "source": [
    "import numpy as np\n",
    "import os,glob,sys"
   ]
  },
  {
   "cell_type": "code",
   "execution_count": 4,
   "metadata": {
    "collapsed": false
   },
   "outputs": [],
   "source": [
    "data_folder = r'D:\\Pu\\20211006-Thymus_AireKO-GFP_CTP-10_DNA'\n",
    "old_positions = np.loadtxt(os.path.join(data_folder, 'positions_all.txt'), delimiter=',')"
   ]
  },
  {
   "cell_type": "code",
   "execution_count": 5,
   "metadata": {
    "collapsed": false,
    "scrolled": true
   },
   "outputs": [
    {
     "name": "stdout",
     "output_type": "stream",
     "text": [
      "[[ 1.75395e+03 -9.99970e+02]\n",
      " [ 1.08943e+03 -5.23950e+02]\n",
      " [ 9.45660e+02 -7.66750e+02]\n",
      " [ 6.96470e+02 -1.25556e+03]\n",
      " [ 8.72180e+02 -1.48878e+03]\n",
      " [ 5.97430e+02 -2.47278e+03]\n",
      " [ 2.58780e+02 -2.22358e+03]\n",
      " [ 5.01580e+02 -3.00631e+03]\n",
      " [ 1.85300e+02 -3.05742e+03]\n",
      " [-7.98700e+01 -3.26189e+03]\n",
      " [-8.72180e+02 -3.55901e+03]\n",
      " [-1.15013e+03 -3.66124e+03]\n",
      " [-1.70283e+03 -4.19477e+03]\n",
      " [-1.89771e+03 -4.19797e+03]\n",
      " [-2.26511e+03 -4.26506e+03]\n",
      " [-2.17885e+03 -3.81459e+03]\n",
      " [-1.48239e+03 -3.09896e+03]\n",
      " [-1.13096e+03 -2.75072e+03]\n",
      " [-8.68990e+02 -2.84018e+03]\n",
      " [-4.21710e+02 -2.85615e+03]\n",
      " [-4.08930e+02 -2.56862e+03]\n",
      " [-4.72830e+02 -2.31623e+03]\n",
      " [-6.54930e+02 -1.66449e+03]\n",
      " [-3.96160e+02 -1.64532e+03]\n",
      " [-9.90390e+02 -3.64210e+02]\n",
      " [-7.79530e+02 -2.61970e+02]\n",
      " [-9.93580e+02 -8.62600e+01]\n",
      " [-3.57820e+02  1.08620e+02]\n",
      " [-5.78260e+02  4.12130e+02]\n",
      " [ 8.30600e+01  1.88490e+02]\n",
      " [-3.19000e+00  4.37690e+02]\n",
      " [-1.08304e+03  6.07010e+02]\n",
      " [-8.65790e+02  7.31610e+02]\n",
      " [-5.87840e+02  7.95510e+02]\n",
      " [-3.38650e+02  8.46620e+02]\n",
      " [-7.73140e+02  1.01914e+03]\n",
      " [-5.20750e+02  1.09262e+03]\n",
      " [-4.40880e+02  1.33862e+03]\n",
      " [-9.99970e+02  1.43127e+03]\n",
      " [-9.16910e+02  1.69963e+03]\n",
      " [-1.19486e+03  1.78589e+03]\n",
      " [-1.48239e+03  1.26514e+03]\n",
      " [-1.63893e+03  1.48878e+03]\n",
      " [-1.49517e+03  2.29387e+03]\n",
      " [-2.37054e+03  2.46958e+03]\n",
      " [-2.42485e+03  2.73794e+03]\n",
      " [-2.65488e+03  2.55903e+03]\n",
      " [ 3.75862e+03  3.88743e+03]\n",
      " [ 4.65112e+03  3.35377e+03]\n",
      " [ 4.57478e+03  3.62521e+03]\n",
      " [ 4.32407e+03  3.37007e+03]\n",
      " [ 5.53987e+03  3.18149e+03]\n",
      " [ 5.47331e+03  2.38501e+03]\n",
      " [ 5.57093e+03  2.13430e+03]\n",
      " [ 5.80167e+03  2.80876e+03]\n",
      " [ 5.91482e+03  2.60021e+03]\n",
      " [ 6.12780e+03  2.68008e+03]\n",
      " [ 6.11449e+03  2.41385e+03]\n",
      " [ 6.30751e+03  2.50259e+03]\n",
      " [ 6.32748e+03  2.20974e+03]\n",
      " [ 6.59593e+03  2.22305e+03]\n",
      " [ 6.42288e+03  1.99675e+03]\n",
      " [ 7.20605e+03  2.16093e+03]\n",
      " [ 6.70464e+03  1.70389e+03]\n",
      " [ 6.05237e+03  1.45763e+03]\n",
      " [ 6.57818e+03  1.35335e+03]\n",
      " [ 6.82001e+03  9.71750e+02]\n",
      " [ 7.18386e+03  1.32451e+03]\n",
      " [ 7.26151e+03  1.05828e+03]\n",
      " [ 6.19214e+03  7.80950e+02]\n",
      " [ 6.38073e+03  6.03460e+02]\n",
      " [ 6.22542e+03  4.10440e+02]\n",
      " [ 7.65953e+03  5.32000e+00]\n",
      " [ 8.22395e+03  4.28640e+02]\n",
      " [ 8.54875e+03  1.25130e+02]\n",
      " [ 8.83362e+03 -2.13000e+01]\n",
      " [ 7.91512e+03 -3.59410e+02]\n",
      " [ 8.10947e+03 -5.43120e+02]\n",
      " [ 7.89382e+03 -1.61337e+03]\n",
      " [ 7.73408e+03 -2.16980e+03]\n",
      " [ 7.24953e+03 -2.38013e+03]\n",
      " [ 7.47849e+03 -1.43766e+03]\n",
      " [ 7.23356e+03 -1.73850e+03]\n",
      " [ 6.88479e+03 -1.92753e+03]\n",
      " [ 6.59194e+03 -2.39078e+03]\n",
      " [ 6.40557e+03 -2.75019e+03]\n",
      " [ 6.13934e+03 -2.90461e+03]\n",
      " [ 5.57759e+03 -3.43707e+03]\n",
      " [ 5.15428e+03 -3.06435e+03]\n",
      " [ 5.88908e+03 -2.31357e+03]\n",
      " [ 6.20590e+03 -1.95149e+03]\n",
      " [ 6.45083e+03 -2.10058e+03]\n",
      " [ 6.60259e+03 -1.76246e+03]\n",
      " [ 6.81291e+03 -1.55746e+03]\n",
      " [ 6.76499e+03 -9.05190e+02]\n",
      " [ 6.89544e+03 -6.62920e+02]\n",
      " [ 6.58129e+03 -7.40130e+02]\n",
      " [ 6.27512e+03 -1.13948e+03]]\n"
     ]
    }
   ],
   "source": [
    "print(old_positions)"
   ]
  },
  {
   "cell_type": "code",
   "execution_count": 7,
   "metadata": {
    "collapsed": false
   },
   "outputs": [],
   "source": [
    "manual_shift = np.array([0, 2283.82])\n",
    "adjusted_positions = old_positions + manual_shift"
   ]
  },
  {
   "cell_type": "code",
   "execution_count": 8,
   "metadata": {
    "collapsed": false
   },
   "outputs": [
    {
     "name": "stdout",
     "output_type": "stream",
     "text": [
      "D:\\Pu\\20211006-Thymus_AireKO-GFP_CTP-10_DNA\\adjusted_positions_all.txt\n"
     ]
    }
   ],
   "source": [
    "adj_save_filename = os.path.join(data_folder, 'adjusted_positions_all.txt')\n",
    "print(adj_save_filename)\n",
    "np.savetxt(adj_save_filename, adjusted_positions, fmt='%.2f', delimiter=',')"
   ]
  },
  {
   "cell_type": "code",
   "execution_count": 6,
   "metadata": {
    "collapsed": false
   },
   "outputs": [
    {
     "data": {
      "text/plain": [
       "2283.8199999999997"
      ]
     },
     "execution_count": 6,
     "metadata": {},
     "output_type": "execute_result"
    }
   ],
   "source": [
    "1283.85 + 999.97"
   ]
  },
  {
   "cell_type": "code",
   "execution_count": null,
   "metadata": {
    "collapsed": true
   },
   "outputs": [],
   "source": []
  }
 ],
 "metadata": {
  "kernelspec": {
   "display_name": "Python 3",
   "language": "python",
   "name": "python3"
  },
  "language_info": {
   "codemirror_mode": {
    "name": "ipython",
    "version": 3
   },
   "file_extension": ".py",
   "mimetype": "text/x-python",
   "name": "python",
   "nbconvert_exporter": "python",
   "pygments_lexer": "ipython3",
   "version": "3.9.5"
  }
 },
 "nbformat": 4,
 "nbformat_minor": 0
}
